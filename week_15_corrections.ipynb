{
  "nbformat": 4,
  "nbformat_minor": 0,
  "metadata": {
    "colab": {
      "provenance": [],
      "include_colab_link": true
    },
    "kernelspec": {
      "name": "ir",
      "display_name": "R"
    },
    "language_info": {
      "name": "R"
    }
  },
  "cells": [
    {
      "cell_type": "markdown",
      "metadata": {
        "id": "view-in-github",
        "colab_type": "text"
      },
      "source": [
        "<a href=\"https://colab.research.google.com/github/PraphulKamabathula/DS1002-qtm3tc/blob/main/week_15_corrections.ipynb\" target=\"_parent\"><img src=\"https://colab.research.google.com/assets/colab-badge.svg\" alt=\"Open In Colab\"/></a>"
      ]
    },
    {
      "cell_type": "markdown",
      "source": [
        "# Homework - Week 15\n",
        "\n",
        "Complete the following blocks as specified in the directions. Run each cell to return the desired output. Save your notebook back to your GitHub repository and submit the GitHub URL to your notebook for review."
      ],
      "metadata": {
        "id": "sZruw3XQogej"
      }
    },
    {
      "cell_type": "markdown",
      "source": [
        "## 1. Create Functions (4 pts)\n",
        "\n",
        "Create two functions in the cells below, according to the prompts given."
      ],
      "metadata": {
        "id": "lkaofBQypx1X"
      }
    },
    {
      "cell_type": "code",
      "source": [
        "library(tidyverse)\n",
        "library(ggplot2)\n",
        "install.packages(\"gapminder\")\n",
        "library(gapminder)\n",
        "library(dplyr)"
      ],
      "metadata": {
        "id": "VKODh1wdgcc7",
        "outputId": "f854b9ab-1b78-4e8e-b8bb-1331169f4967",
        "colab": {
          "base_uri": "https://localhost:8080/"
        }
      },
      "execution_count": null,
      "outputs": [
        {
          "output_type": "stream",
          "name": "stderr",
          "text": [
            "Installing package into ‘/usr/local/lib/R/site-library’\n",
            "(as ‘lib’ is unspecified)\n",
            "\n"
          ]
        }
      ]
    },
    {
      "cell_type": "code",
      "source": [
        "# create a function in R that:\n",
        "#   1. takes a single integer as an input parameter\n",
        "#   2. determines whether the integer is even or odd\n",
        "#   3. returns a character statement \"The integer <x> is even\" or \"The integer <x> is odd\" (replace <x> with the actual input provided)\n",
        "#\n",
        "# then execute the function twice using two different input values, displaying even and odd results.\n",
        "x <- 4\n",
        "even_odd <- function(x) {\n",
        "  for (i in x) {\n",
        "    if (x%%2 == 0) {\n",
        "      print(paste(\"The integer\", x, \"is even\"))\n",
        "   } else {\n",
        "      print(paste(\"The integer\", x, \"is odd\"))\n",
        "    }\n",
        "  }\n",
        "}\n",
        "\n",
        "even_odd(x)"
      ],
      "metadata": {
        "id": "1fjq5bkEp6Zv",
        "outputId": "7409cec2-a7a5-46ef-e641-232fee0f2288",
        "colab": {
          "base_uri": "https://localhost:8080/"
        }
      },
      "execution_count": null,
      "outputs": [
        {
          "output_type": "stream",
          "name": "stdout",
          "text": [
            "[1] \"The integer 4 is even\"\n"
          ]
        }
      ]
    },
    {
      "cell_type": "code",
      "source": [
        "even_odd(x=98)\n",
        "even_odd(x=11)"
      ],
      "metadata": {
        "colab": {
          "base_uri": "https://localhost:8080/"
        },
        "id": "lPTFSfq-ENQv",
        "outputId": "ce78f95f-5cf5-4602-d8c8-ccf30f62507c"
      },
      "execution_count": null,
      "outputs": [
        {
          "output_type": "stream",
          "name": "stdout",
          "text": [
            "[1] \"The integer 98 is even\"\n",
            "[1] \"The integer 11 is odd\"\n"
          ]
        }
      ]
    },
    {
      "cell_type": "code",
      "source": [
        "# create a function in R that:\n",
        "#   1. takes 4 integer input parameters\n",
        "#   2. returns the mean value of the inputs\n",
        "#   3. has default values for the 4 input parameters, in case they are not provided when the function is called.\n",
        "#\n",
        "# then execute the function twice: once where you provide the input values, and once where you do not.\n",
        "\n",
        "mean_calcer <- function(y) {\n",
        "  for (n in y) {\n",
        "    return(mean(y))\n",
        "  }\n",
        "}\n",
        "\n",
        "mean_calcer(y)"
      ],
      "metadata": {
        "id": "f3IFD-T6p6Rd",
        "outputId": "5826090c-5128-4b35-cb67-0840a0c791e2",
        "colab": {
          "base_uri": "https://localhost:8080/",
          "height": 140
        }
      },
      "execution_count": null,
      "outputs": [
        {
          "output_type": "error",
          "ename": "ERROR",
          "evalue": "ignored",
          "traceback": [
            "Error in eval(expr, envir, enclos): object 'y' not found\nTraceback:\n",
            "1. mean_calcer(y)"
          ]
        }
      ]
    },
    {
      "cell_type": "code",
      "source": [
        "mean_calcer(y <- c(1,2,3,4,5,6,7))"
      ],
      "metadata": {
        "id": "mlWRZhw9mFee",
        "outputId": "dd995b68-412a-464c-8962-d6b268a6eb50",
        "colab": {
          "base_uri": "https://localhost:8080/",
          "height": 34
        }
      },
      "execution_count": null,
      "outputs": [
        {
          "output_type": "display_data",
          "data": {
            "text/html": [
              "4"
            ],
            "text/markdown": "4",
            "text/latex": "4",
            "text/plain": [
              "[1] 4"
            ]
          },
          "metadata": {}
        }
      ]
    },
    {
      "cell_type": "code",
      "source": [
        "mean_calcer(y = 1:10)"
      ],
      "metadata": {
        "colab": {
          "base_uri": "https://localhost:8080/",
          "height": 34
        },
        "id": "57m0VpUWE5qN",
        "outputId": "35930c0a-6778-4796-f0e8-4ba688b8296d"
      },
      "execution_count": null,
      "outputs": [
        {
          "output_type": "display_data",
          "data": {
            "text/html": [
              "5.5"
            ],
            "text/markdown": "5.5",
            "text/latex": "5.5",
            "text/plain": [
              "[1] 5.5"
            ]
          },
          "metadata": {}
        }
      ]
    },
    {
      "cell_type": "markdown",
      "source": [
        "## 2. Plot Data (4 pts)"
      ],
      "metadata": {
        "id": "F6Rx0GIGrpOB"
      }
    },
    {
      "cell_type": "markdown",
      "source": [
        "In the cell below, write the code required to plot from the `msleep` sample data set.\n",
        "\n",
        "1. Display only animals with body weights of 30 or greater.\n",
        "2. Group the animals by `order`.\n",
        "3. Display the mean `sleep_total` for each group in a bar plot."
      ],
      "metadata": {
        "id": "IDLyOjOJsFCX"
      }
    },
    {
      "cell_type": "code",
      "source": [
        "df <- msleep"
      ],
      "metadata": {
        "id": "hCXuX_inmmjQ"
      },
      "execution_count": null,
      "outputs": []
    },
    {
      "cell_type": "code",
      "source": [
        "df"
      ],
      "metadata": {
        "id": "2XPheK6QpFNg",
        "outputId": "7e28d1dd-825a-4870-8c95-a78a90c4966f",
        "colab": {
          "base_uri": "https://localhost:8080/",
          "height": 1000
        }
      },
      "execution_count": null,
      "outputs": [
        {
          "output_type": "display_data",
          "data": {
            "text/html": [
              "<table class=\"dataframe\">\n",
              "<caption>A tibble: 83 × 11</caption>\n",
              "<thead>\n",
              "\t<tr><th scope=col>name</th><th scope=col>genus</th><th scope=col>vore</th><th scope=col>order</th><th scope=col>conservation</th><th scope=col>sleep_total</th><th scope=col>sleep_rem</th><th scope=col>sleep_cycle</th><th scope=col>awake</th><th scope=col>brainwt</th><th scope=col>bodywt</th></tr>\n",
              "\t<tr><th scope=col>&lt;chr&gt;</th><th scope=col>&lt;chr&gt;</th><th scope=col>&lt;chr&gt;</th><th scope=col>&lt;chr&gt;</th><th scope=col>&lt;chr&gt;</th><th scope=col>&lt;dbl&gt;</th><th scope=col>&lt;dbl&gt;</th><th scope=col>&lt;dbl&gt;</th><th scope=col>&lt;dbl&gt;</th><th scope=col>&lt;dbl&gt;</th><th scope=col>&lt;dbl&gt;</th></tr>\n",
              "</thead>\n",
              "<tbody>\n",
              "\t<tr><td>Cheetah                   </td><td>Acinonyx     </td><td>carni  </td><td>Carnivora      </td><td>lc          </td><td>12.1</td><td> NA</td><td>       NA</td><td>11.9</td><td>     NA</td><td>  50.000</td></tr>\n",
              "\t<tr><td>Owl monkey                </td><td>Aotus        </td><td>omni   </td><td>Primates       </td><td>NA          </td><td>17.0</td><td>1.8</td><td>       NA</td><td> 7.0</td><td>0.01550</td><td>   0.480</td></tr>\n",
              "\t<tr><td>Mountain beaver           </td><td>Aplodontia   </td><td>herbi  </td><td>Rodentia       </td><td>nt          </td><td>14.4</td><td>2.4</td><td>       NA</td><td> 9.6</td><td>     NA</td><td>   1.350</td></tr>\n",
              "\t<tr><td>Greater short-tailed shrew</td><td>Blarina      </td><td>omni   </td><td>Soricomorpha   </td><td>lc          </td><td>14.9</td><td>2.3</td><td>0.1333333</td><td> 9.1</td><td>0.00029</td><td>   0.019</td></tr>\n",
              "\t<tr><td>Cow                       </td><td>Bos          </td><td>herbi  </td><td>Artiodactyla   </td><td>domesticated</td><td> 4.0</td><td>0.7</td><td>0.6666667</td><td>20.0</td><td>0.42300</td><td> 600.000</td></tr>\n",
              "\t<tr><td>Three-toed sloth          </td><td>Bradypus     </td><td>herbi  </td><td>Pilosa         </td><td>NA          </td><td>14.4</td><td>2.2</td><td>0.7666667</td><td> 9.6</td><td>     NA</td><td>   3.850</td></tr>\n",
              "\t<tr><td>Northern fur seal         </td><td>Callorhinus  </td><td>carni  </td><td>Carnivora      </td><td>vu          </td><td> 8.7</td><td>1.4</td><td>0.3833333</td><td>15.3</td><td>     NA</td><td>  20.490</td></tr>\n",
              "\t<tr><td>Vesper mouse              </td><td>Calomys      </td><td>NA     </td><td>Rodentia       </td><td>NA          </td><td> 7.0</td><td> NA</td><td>       NA</td><td>17.0</td><td>     NA</td><td>   0.045</td></tr>\n",
              "\t<tr><td>Dog                       </td><td>Canis        </td><td>carni  </td><td>Carnivora      </td><td>domesticated</td><td>10.1</td><td>2.9</td><td>0.3333333</td><td>13.9</td><td>0.07000</td><td>  14.000</td></tr>\n",
              "\t<tr><td>Roe deer                  </td><td>Capreolus    </td><td>herbi  </td><td>Artiodactyla   </td><td>lc          </td><td> 3.0</td><td> NA</td><td>       NA</td><td>21.0</td><td>0.09820</td><td>  14.800</td></tr>\n",
              "\t<tr><td>Goat                      </td><td>Capri        </td><td>herbi  </td><td>Artiodactyla   </td><td>lc          </td><td> 5.3</td><td>0.6</td><td>       NA</td><td>18.7</td><td>0.11500</td><td>  33.500</td></tr>\n",
              "\t<tr><td>Guinea pig                </td><td>Cavis        </td><td>herbi  </td><td>Rodentia       </td><td>domesticated</td><td> 9.4</td><td>0.8</td><td>0.2166667</td><td>14.6</td><td>0.00550</td><td>   0.728</td></tr>\n",
              "\t<tr><td>Grivet                    </td><td>Cercopithecus</td><td>omni   </td><td>Primates       </td><td>lc          </td><td>10.0</td><td>0.7</td><td>       NA</td><td>14.0</td><td>     NA</td><td>   4.750</td></tr>\n",
              "\t<tr><td>Chinchilla                </td><td>Chinchilla   </td><td>herbi  </td><td>Rodentia       </td><td>domesticated</td><td>12.5</td><td>1.5</td><td>0.1166667</td><td>11.5</td><td>0.00640</td><td>   0.420</td></tr>\n",
              "\t<tr><td>Star-nosed mole           </td><td>Condylura    </td><td>omni   </td><td>Soricomorpha   </td><td>lc          </td><td>10.3</td><td>2.2</td><td>       NA</td><td>13.7</td><td>0.00100</td><td>   0.060</td></tr>\n",
              "\t<tr><td>African giant pouched rat </td><td>Cricetomys   </td><td>omni   </td><td>Rodentia       </td><td>NA          </td><td> 8.3</td><td>2.0</td><td>       NA</td><td>15.7</td><td>0.00660</td><td>   1.000</td></tr>\n",
              "\t<tr><td>Lesser short-tailed shrew </td><td>Cryptotis    </td><td>omni   </td><td>Soricomorpha   </td><td>lc          </td><td> 9.1</td><td>1.4</td><td>0.1500000</td><td>14.9</td><td>0.00014</td><td>   0.005</td></tr>\n",
              "\t<tr><td>Long-nosed armadillo      </td><td>Dasypus      </td><td>carni  </td><td>Cingulata      </td><td>lc          </td><td>17.4</td><td>3.1</td><td>0.3833333</td><td> 6.6</td><td>0.01080</td><td>   3.500</td></tr>\n",
              "\t<tr><td>Tree hyrax                </td><td>Dendrohyrax  </td><td>herbi  </td><td>Hyracoidea     </td><td>lc          </td><td> 5.3</td><td>0.5</td><td>       NA</td><td>18.7</td><td>0.01230</td><td>   2.950</td></tr>\n",
              "\t<tr><td>North American Opossum    </td><td>Didelphis    </td><td>omni   </td><td>Didelphimorphia</td><td>lc          </td><td>18.0</td><td>4.9</td><td>0.3333333</td><td> 6.0</td><td>0.00630</td><td>   1.700</td></tr>\n",
              "\t<tr><td>Asian elephant            </td><td>Elephas      </td><td>herbi  </td><td>Proboscidea    </td><td>en          </td><td> 3.9</td><td> NA</td><td>       NA</td><td>20.1</td><td>4.60300</td><td>2547.000</td></tr>\n",
              "\t<tr><td>Big brown bat             </td><td>Eptesicus    </td><td>insecti</td><td>Chiroptera     </td><td>lc          </td><td>19.7</td><td>3.9</td><td>0.1166667</td><td> 4.3</td><td>0.00030</td><td>   0.023</td></tr>\n",
              "\t<tr><td>Horse                     </td><td>Equus        </td><td>herbi  </td><td>Perissodactyla </td><td>domesticated</td><td> 2.9</td><td>0.6</td><td>1.0000000</td><td>21.1</td><td>0.65500</td><td> 521.000</td></tr>\n",
              "\t<tr><td>Donkey                    </td><td>Equus        </td><td>herbi  </td><td>Perissodactyla </td><td>domesticated</td><td> 3.1</td><td>0.4</td><td>       NA</td><td>20.9</td><td>0.41900</td><td> 187.000</td></tr>\n",
              "\t<tr><td>European hedgehog         </td><td>Erinaceus    </td><td>omni   </td><td>Erinaceomorpha </td><td>lc          </td><td>10.1</td><td>3.5</td><td>0.2833333</td><td>13.9</td><td>0.00350</td><td>   0.770</td></tr>\n",
              "\t<tr><td>Patas monkey              </td><td>Erythrocebus </td><td>omni   </td><td>Primates       </td><td>lc          </td><td>10.9</td><td>1.1</td><td>       NA</td><td>13.1</td><td>0.11500</td><td>  10.000</td></tr>\n",
              "\t<tr><td>Western american chipmunk </td><td>Eutamias     </td><td>herbi  </td><td>Rodentia       </td><td>NA          </td><td>14.9</td><td> NA</td><td>       NA</td><td> 9.1</td><td>     NA</td><td>   0.071</td></tr>\n",
              "\t<tr><td>Domestic cat              </td><td>Felis        </td><td>carni  </td><td>Carnivora      </td><td>domesticated</td><td>12.5</td><td>3.2</td><td>0.4166667</td><td>11.5</td><td>0.02560</td><td>   3.300</td></tr>\n",
              "\t<tr><td>Galago                    </td><td>Galago       </td><td>omni   </td><td>Primates       </td><td>NA          </td><td> 9.8</td><td>1.1</td><td>0.5500000</td><td>14.2</td><td>0.00500</td><td>   0.200</td></tr>\n",
              "\t<tr><td>Giraffe                   </td><td>Giraffa      </td><td>herbi  </td><td>Artiodactyla   </td><td>cd          </td><td> 1.9</td><td>0.4</td><td>       NA</td><td>22.1</td><td>     NA</td><td> 899.995</td></tr>\n",
              "\t<tr><td>⋮</td><td>⋮</td><td>⋮</td><td>⋮</td><td>⋮</td><td>⋮</td><td>⋮</td><td>⋮</td><td>⋮</td><td>⋮</td><td>⋮</td></tr>\n",
              "\t<tr><td>Baboon                        </td><td>Papio       </td><td>omni   </td><td>Primates      </td><td>NA          </td><td> 9.4</td><td>1.0</td><td>0.6666667</td><td>14.60</td><td>0.18000</td><td> 25.235</td></tr>\n",
              "\t<tr><td>Desert hedgehog               </td><td>Paraechinus </td><td>NA     </td><td>Erinaceomorpha</td><td>lc          </td><td>10.3</td><td>2.7</td><td>       NA</td><td>13.70</td><td>0.00240</td><td>  0.550</td></tr>\n",
              "\t<tr><td>Potto                         </td><td>Perodicticus</td><td>omni   </td><td>Primates      </td><td>lc          </td><td>11.0</td><td> NA</td><td>       NA</td><td>13.00</td><td>     NA</td><td>  1.100</td></tr>\n",
              "\t<tr><td>Deer mouse                    </td><td>Peromyscus  </td><td>NA     </td><td>Rodentia      </td><td>NA          </td><td>11.5</td><td> NA</td><td>       NA</td><td>12.50</td><td>     NA</td><td>  0.021</td></tr>\n",
              "\t<tr><td>Phalanger                     </td><td>Phalanger   </td><td>NA     </td><td>Diprotodontia </td><td>NA          </td><td>13.7</td><td>1.8</td><td>       NA</td><td>10.30</td><td>0.01140</td><td>  1.620</td></tr>\n",
              "\t<tr><td>Caspian seal                  </td><td>Phoca       </td><td>carni  </td><td>Carnivora     </td><td>vu          </td><td> 3.5</td><td>0.4</td><td>       NA</td><td>20.50</td><td>     NA</td><td> 86.000</td></tr>\n",
              "\t<tr><td>Common porpoise               </td><td>Phocoena    </td><td>carni  </td><td>Cetacea       </td><td>vu          </td><td> 5.6</td><td> NA</td><td>       NA</td><td>18.45</td><td>     NA</td><td> 53.180</td></tr>\n",
              "\t<tr><td>Potoroo                       </td><td>Potorous    </td><td>herbi  </td><td>Diprotodontia </td><td>NA          </td><td>11.1</td><td>1.5</td><td>       NA</td><td>12.90</td><td>     NA</td><td>  1.100</td></tr>\n",
              "\t<tr><td>Giant armadillo               </td><td>Priodontes  </td><td>insecti</td><td>Cingulata     </td><td>en          </td><td>18.1</td><td>6.1</td><td>       NA</td><td> 5.90</td><td>0.08100</td><td> 60.000</td></tr>\n",
              "\t<tr><td>Rock hyrax                    </td><td>Procavia    </td><td>NA     </td><td>Hyracoidea    </td><td>lc          </td><td> 5.4</td><td>0.5</td><td>       NA</td><td>18.60</td><td>0.02100</td><td>  3.600</td></tr>\n",
              "\t<tr><td>Laboratory rat                </td><td>Rattus      </td><td>herbi  </td><td>Rodentia      </td><td>lc          </td><td>13.0</td><td>2.4</td><td>0.1833333</td><td>11.00</td><td>0.00190</td><td>  0.320</td></tr>\n",
              "\t<tr><td>African striped mouse         </td><td>Rhabdomys   </td><td>omni   </td><td>Rodentia      </td><td>NA          </td><td> 8.7</td><td> NA</td><td>       NA</td><td>15.30</td><td>     NA</td><td>  0.044</td></tr>\n",
              "\t<tr><td>Squirrel monkey               </td><td>Saimiri     </td><td>omni   </td><td>Primates      </td><td>NA          </td><td> 9.6</td><td>1.4</td><td>       NA</td><td>14.40</td><td>0.02000</td><td>  0.743</td></tr>\n",
              "\t<tr><td>Eastern american mole         </td><td>Scalopus    </td><td>insecti</td><td>Soricomorpha  </td><td>lc          </td><td> 8.4</td><td>2.1</td><td>0.1666667</td><td>15.60</td><td>0.00120</td><td>  0.075</td></tr>\n",
              "\t<tr><td>Cotton rat                    </td><td>Sigmodon    </td><td>herbi  </td><td>Rodentia      </td><td>NA          </td><td>11.3</td><td>1.1</td><td>0.1500000</td><td>12.70</td><td>0.00118</td><td>  0.148</td></tr>\n",
              "\t<tr><td>Mole rat                      </td><td>Spalax      </td><td>NA     </td><td>Rodentia      </td><td>NA          </td><td>10.6</td><td>2.4</td><td>       NA</td><td>13.40</td><td>0.00300</td><td>  0.122</td></tr>\n",
              "\t<tr><td>Arctic ground squirrel        </td><td>Spermophilus</td><td>herbi  </td><td>Rodentia      </td><td>lc          </td><td>16.6</td><td> NA</td><td>       NA</td><td> 7.40</td><td>0.00570</td><td>  0.920</td></tr>\n",
              "\t<tr><td>Thirteen-lined ground squirrel</td><td>Spermophilus</td><td>herbi  </td><td>Rodentia      </td><td>lc          </td><td>13.8</td><td>3.4</td><td>0.2166667</td><td>10.20</td><td>0.00400</td><td>  0.101</td></tr>\n",
              "\t<tr><td>Golden-mantled ground squirrel</td><td>Spermophilus</td><td>herbi  </td><td>Rodentia      </td><td>lc          </td><td>15.9</td><td>3.0</td><td>       NA</td><td> 8.10</td><td>     NA</td><td>  0.205</td></tr>\n",
              "\t<tr><td>Musk shrew                    </td><td>Suncus      </td><td>NA     </td><td>Soricomorpha  </td><td>NA          </td><td>12.8</td><td>2.0</td><td>0.1833333</td><td>11.20</td><td>0.00033</td><td>  0.048</td></tr>\n",
              "\t<tr><td>Pig                           </td><td>Sus         </td><td>omni   </td><td>Artiodactyla  </td><td>domesticated</td><td> 9.1</td><td>2.4</td><td>0.5000000</td><td>14.90</td><td>0.18000</td><td> 86.250</td></tr>\n",
              "\t<tr><td>Short-nosed echidna           </td><td>Tachyglossus</td><td>insecti</td><td>Monotremata   </td><td>NA          </td><td> 8.6</td><td> NA</td><td>       NA</td><td>15.40</td><td>0.02500</td><td>  4.500</td></tr>\n",
              "\t<tr><td>Eastern american chipmunk     </td><td>Tamias      </td><td>herbi  </td><td>Rodentia      </td><td>NA          </td><td>15.8</td><td> NA</td><td>       NA</td><td> 8.20</td><td>     NA</td><td>  0.112</td></tr>\n",
              "\t<tr><td>Brazilian tapir               </td><td>Tapirus     </td><td>herbi  </td><td>Perissodactyla</td><td>vu          </td><td> 4.4</td><td>1.0</td><td>0.9000000</td><td>19.60</td><td>0.16900</td><td>207.501</td></tr>\n",
              "\t<tr><td>Tenrec                        </td><td>Tenrec      </td><td>omni   </td><td>Afrosoricida  </td><td>NA          </td><td>15.6</td><td>2.3</td><td>       NA</td><td> 8.40</td><td>0.00260</td><td>  0.900</td></tr>\n",
              "\t<tr><td>Tree shrew                    </td><td>Tupaia      </td><td>omni   </td><td>Scandentia    </td><td>NA          </td><td> 8.9</td><td>2.6</td><td>0.2333333</td><td>15.10</td><td>0.00250</td><td>  0.104</td></tr>\n",
              "\t<tr><td>Bottle-nosed dolphin          </td><td>Tursiops    </td><td>carni  </td><td>Cetacea       </td><td>NA          </td><td> 5.2</td><td> NA</td><td>       NA</td><td>18.80</td><td>     NA</td><td>173.330</td></tr>\n",
              "\t<tr><td>Genet                         </td><td>Genetta     </td><td>carni  </td><td>Carnivora     </td><td>NA          </td><td> 6.3</td><td>1.3</td><td>       NA</td><td>17.70</td><td>0.01750</td><td>  2.000</td></tr>\n",
              "\t<tr><td>Arctic fox                    </td><td>Vulpes      </td><td>carni  </td><td>Carnivora     </td><td>NA          </td><td>12.5</td><td> NA</td><td>       NA</td><td>11.50</td><td>0.04450</td><td>  3.380</td></tr>\n",
              "\t<tr><td>Red fox                       </td><td>Vulpes      </td><td>carni  </td><td>Carnivora     </td><td>NA          </td><td> 9.8</td><td>2.4</td><td>0.3500000</td><td>14.20</td><td>0.05040</td><td>  4.230</td></tr>\n",
              "</tbody>\n",
              "</table>\n"
            ],
            "text/markdown": "\nA tibble: 83 × 11\n\n| name &lt;chr&gt; | genus &lt;chr&gt; | vore &lt;chr&gt; | order &lt;chr&gt; | conservation &lt;chr&gt; | sleep_total &lt;dbl&gt; | sleep_rem &lt;dbl&gt; | sleep_cycle &lt;dbl&gt; | awake &lt;dbl&gt; | brainwt &lt;dbl&gt; | bodywt &lt;dbl&gt; |\n|---|---|---|---|---|---|---|---|---|---|---|\n| Cheetah                    | Acinonyx      | carni   | Carnivora       | lc           | 12.1 |  NA |        NA | 11.9 |      NA |   50.000 |\n| Owl monkey                 | Aotus         | omni    | Primates        | NA           | 17.0 | 1.8 |        NA |  7.0 | 0.01550 |    0.480 |\n| Mountain beaver            | Aplodontia    | herbi   | Rodentia        | nt           | 14.4 | 2.4 |        NA |  9.6 |      NA |    1.350 |\n| Greater short-tailed shrew | Blarina       | omni    | Soricomorpha    | lc           | 14.9 | 2.3 | 0.1333333 |  9.1 | 0.00029 |    0.019 |\n| Cow                        | Bos           | herbi   | Artiodactyla    | domesticated |  4.0 | 0.7 | 0.6666667 | 20.0 | 0.42300 |  600.000 |\n| Three-toed sloth           | Bradypus      | herbi   | Pilosa          | NA           | 14.4 | 2.2 | 0.7666667 |  9.6 |      NA |    3.850 |\n| Northern fur seal          | Callorhinus   | carni   | Carnivora       | vu           |  8.7 | 1.4 | 0.3833333 | 15.3 |      NA |   20.490 |\n| Vesper mouse               | Calomys       | NA      | Rodentia        | NA           |  7.0 |  NA |        NA | 17.0 |      NA |    0.045 |\n| Dog                        | Canis         | carni   | Carnivora       | domesticated | 10.1 | 2.9 | 0.3333333 | 13.9 | 0.07000 |   14.000 |\n| Roe deer                   | Capreolus     | herbi   | Artiodactyla    | lc           |  3.0 |  NA |        NA | 21.0 | 0.09820 |   14.800 |\n| Goat                       | Capri         | herbi   | Artiodactyla    | lc           |  5.3 | 0.6 |        NA | 18.7 | 0.11500 |   33.500 |\n| Guinea pig                 | Cavis         | herbi   | Rodentia        | domesticated |  9.4 | 0.8 | 0.2166667 | 14.6 | 0.00550 |    0.728 |\n| Grivet                     | Cercopithecus | omni    | Primates        | lc           | 10.0 | 0.7 |        NA | 14.0 |      NA |    4.750 |\n| Chinchilla                 | Chinchilla    | herbi   | Rodentia        | domesticated | 12.5 | 1.5 | 0.1166667 | 11.5 | 0.00640 |    0.420 |\n| Star-nosed mole            | Condylura     | omni    | Soricomorpha    | lc           | 10.3 | 2.2 |        NA | 13.7 | 0.00100 |    0.060 |\n| African giant pouched rat  | Cricetomys    | omni    | Rodentia        | NA           |  8.3 | 2.0 |        NA | 15.7 | 0.00660 |    1.000 |\n| Lesser short-tailed shrew  | Cryptotis     | omni    | Soricomorpha    | lc           |  9.1 | 1.4 | 0.1500000 | 14.9 | 0.00014 |    0.005 |\n| Long-nosed armadillo       | Dasypus       | carni   | Cingulata       | lc           | 17.4 | 3.1 | 0.3833333 |  6.6 | 0.01080 |    3.500 |\n| Tree hyrax                 | Dendrohyrax   | herbi   | Hyracoidea      | lc           |  5.3 | 0.5 |        NA | 18.7 | 0.01230 |    2.950 |\n| North American Opossum     | Didelphis     | omni    | Didelphimorphia | lc           | 18.0 | 4.9 | 0.3333333 |  6.0 | 0.00630 |    1.700 |\n| Asian elephant             | Elephas       | herbi   | Proboscidea     | en           |  3.9 |  NA |        NA | 20.1 | 4.60300 | 2547.000 |\n| Big brown bat              | Eptesicus     | insecti | Chiroptera      | lc           | 19.7 | 3.9 | 0.1166667 |  4.3 | 0.00030 |    0.023 |\n| Horse                      | Equus         | herbi   | Perissodactyla  | domesticated |  2.9 | 0.6 | 1.0000000 | 21.1 | 0.65500 |  521.000 |\n| Donkey                     | Equus         | herbi   | Perissodactyla  | domesticated |  3.1 | 0.4 |        NA | 20.9 | 0.41900 |  187.000 |\n| European hedgehog          | Erinaceus     | omni    | Erinaceomorpha  | lc           | 10.1 | 3.5 | 0.2833333 | 13.9 | 0.00350 |    0.770 |\n| Patas monkey               | Erythrocebus  | omni    | Primates        | lc           | 10.9 | 1.1 |        NA | 13.1 | 0.11500 |   10.000 |\n| Western american chipmunk  | Eutamias      | herbi   | Rodentia        | NA           | 14.9 |  NA |        NA |  9.1 |      NA |    0.071 |\n| Domestic cat               | Felis         | carni   | Carnivora       | domesticated | 12.5 | 3.2 | 0.4166667 | 11.5 | 0.02560 |    3.300 |\n| Galago                     | Galago        | omni    | Primates        | NA           |  9.8 | 1.1 | 0.5500000 | 14.2 | 0.00500 |    0.200 |\n| Giraffe                    | Giraffa       | herbi   | Artiodactyla    | cd           |  1.9 | 0.4 |        NA | 22.1 |      NA |  899.995 |\n| ⋮ | ⋮ | ⋮ | ⋮ | ⋮ | ⋮ | ⋮ | ⋮ | ⋮ | ⋮ | ⋮ |\n| Baboon                         | Papio        | omni    | Primates       | NA           |  9.4 | 1.0 | 0.6666667 | 14.60 | 0.18000 |  25.235 |\n| Desert hedgehog                | Paraechinus  | NA      | Erinaceomorpha | lc           | 10.3 | 2.7 |        NA | 13.70 | 0.00240 |   0.550 |\n| Potto                          | Perodicticus | omni    | Primates       | lc           | 11.0 |  NA |        NA | 13.00 |      NA |   1.100 |\n| Deer mouse                     | Peromyscus   | NA      | Rodentia       | NA           | 11.5 |  NA |        NA | 12.50 |      NA |   0.021 |\n| Phalanger                      | Phalanger    | NA      | Diprotodontia  | NA           | 13.7 | 1.8 |        NA | 10.30 | 0.01140 |   1.620 |\n| Caspian seal                   | Phoca        | carni   | Carnivora      | vu           |  3.5 | 0.4 |        NA | 20.50 |      NA |  86.000 |\n| Common porpoise                | Phocoena     | carni   | Cetacea        | vu           |  5.6 |  NA |        NA | 18.45 |      NA |  53.180 |\n| Potoroo                        | Potorous     | herbi   | Diprotodontia  | NA           | 11.1 | 1.5 |        NA | 12.90 |      NA |   1.100 |\n| Giant armadillo                | Priodontes   | insecti | Cingulata      | en           | 18.1 | 6.1 |        NA |  5.90 | 0.08100 |  60.000 |\n| Rock hyrax                     | Procavia     | NA      | Hyracoidea     | lc           |  5.4 | 0.5 |        NA | 18.60 | 0.02100 |   3.600 |\n| Laboratory rat                 | Rattus       | herbi   | Rodentia       | lc           | 13.0 | 2.4 | 0.1833333 | 11.00 | 0.00190 |   0.320 |\n| African striped mouse          | Rhabdomys    | omni    | Rodentia       | NA           |  8.7 |  NA |        NA | 15.30 |      NA |   0.044 |\n| Squirrel monkey                | Saimiri      | omni    | Primates       | NA           |  9.6 | 1.4 |        NA | 14.40 | 0.02000 |   0.743 |\n| Eastern american mole          | Scalopus     | insecti | Soricomorpha   | lc           |  8.4 | 2.1 | 0.1666667 | 15.60 | 0.00120 |   0.075 |\n| Cotton rat                     | Sigmodon     | herbi   | Rodentia       | NA           | 11.3 | 1.1 | 0.1500000 | 12.70 | 0.00118 |   0.148 |\n| Mole rat                       | Spalax       | NA      | Rodentia       | NA           | 10.6 | 2.4 |        NA | 13.40 | 0.00300 |   0.122 |\n| Arctic ground squirrel         | Spermophilus | herbi   | Rodentia       | lc           | 16.6 |  NA |        NA |  7.40 | 0.00570 |   0.920 |\n| Thirteen-lined ground squirrel | Spermophilus | herbi   | Rodentia       | lc           | 13.8 | 3.4 | 0.2166667 | 10.20 | 0.00400 |   0.101 |\n| Golden-mantled ground squirrel | Spermophilus | herbi   | Rodentia       | lc           | 15.9 | 3.0 |        NA |  8.10 |      NA |   0.205 |\n| Musk shrew                     | Suncus       | NA      | Soricomorpha   | NA           | 12.8 | 2.0 | 0.1833333 | 11.20 | 0.00033 |   0.048 |\n| Pig                            | Sus          | omni    | Artiodactyla   | domesticated |  9.1 | 2.4 | 0.5000000 | 14.90 | 0.18000 |  86.250 |\n| Short-nosed echidna            | Tachyglossus | insecti | Monotremata    | NA           |  8.6 |  NA |        NA | 15.40 | 0.02500 |   4.500 |\n| Eastern american chipmunk      | Tamias       | herbi   | Rodentia       | NA           | 15.8 |  NA |        NA |  8.20 |      NA |   0.112 |\n| Brazilian tapir                | Tapirus      | herbi   | Perissodactyla | vu           |  4.4 | 1.0 | 0.9000000 | 19.60 | 0.16900 | 207.501 |\n| Tenrec                         | Tenrec       | omni    | Afrosoricida   | NA           | 15.6 | 2.3 |        NA |  8.40 | 0.00260 |   0.900 |\n| Tree shrew                     | Tupaia       | omni    | Scandentia     | NA           |  8.9 | 2.6 | 0.2333333 | 15.10 | 0.00250 |   0.104 |\n| Bottle-nosed dolphin           | Tursiops     | carni   | Cetacea        | NA           |  5.2 |  NA |        NA | 18.80 |      NA | 173.330 |\n| Genet                          | Genetta      | carni   | Carnivora      | NA           |  6.3 | 1.3 |        NA | 17.70 | 0.01750 |   2.000 |\n| Arctic fox                     | Vulpes       | carni   | Carnivora      | NA           | 12.5 |  NA |        NA | 11.50 | 0.04450 |   3.380 |\n| Red fox                        | Vulpes       | carni   | Carnivora      | NA           |  9.8 | 2.4 | 0.3500000 | 14.20 | 0.05040 |   4.230 |\n\n",
            "text/latex": "A tibble: 83 × 11\n\\begin{tabular}{lllllllllll}\n name & genus & vore & order & conservation & sleep\\_total & sleep\\_rem & sleep\\_cycle & awake & brainwt & bodywt\\\\\n <chr> & <chr> & <chr> & <chr> & <chr> & <dbl> & <dbl> & <dbl> & <dbl> & <dbl> & <dbl>\\\\\n\\hline\n\t Cheetah                    & Acinonyx      & carni   & Carnivora       & lc           & 12.1 &  NA &        NA & 11.9 &      NA &   50.000\\\\\n\t Owl monkey                 & Aotus         & omni    & Primates        & NA           & 17.0 & 1.8 &        NA &  7.0 & 0.01550 &    0.480\\\\\n\t Mountain beaver            & Aplodontia    & herbi   & Rodentia        & nt           & 14.4 & 2.4 &        NA &  9.6 &      NA &    1.350\\\\\n\t Greater short-tailed shrew & Blarina       & omni    & Soricomorpha    & lc           & 14.9 & 2.3 & 0.1333333 &  9.1 & 0.00029 &    0.019\\\\\n\t Cow                        & Bos           & herbi   & Artiodactyla    & domesticated &  4.0 & 0.7 & 0.6666667 & 20.0 & 0.42300 &  600.000\\\\\n\t Three-toed sloth           & Bradypus      & herbi   & Pilosa          & NA           & 14.4 & 2.2 & 0.7666667 &  9.6 &      NA &    3.850\\\\\n\t Northern fur seal          & Callorhinus   & carni   & Carnivora       & vu           &  8.7 & 1.4 & 0.3833333 & 15.3 &      NA &   20.490\\\\\n\t Vesper mouse               & Calomys       & NA      & Rodentia        & NA           &  7.0 &  NA &        NA & 17.0 &      NA &    0.045\\\\\n\t Dog                        & Canis         & carni   & Carnivora       & domesticated & 10.1 & 2.9 & 0.3333333 & 13.9 & 0.07000 &   14.000\\\\\n\t Roe deer                   & Capreolus     & herbi   & Artiodactyla    & lc           &  3.0 &  NA &        NA & 21.0 & 0.09820 &   14.800\\\\\n\t Goat                       & Capri         & herbi   & Artiodactyla    & lc           &  5.3 & 0.6 &        NA & 18.7 & 0.11500 &   33.500\\\\\n\t Guinea pig                 & Cavis         & herbi   & Rodentia        & domesticated &  9.4 & 0.8 & 0.2166667 & 14.6 & 0.00550 &    0.728\\\\\n\t Grivet                     & Cercopithecus & omni    & Primates        & lc           & 10.0 & 0.7 &        NA & 14.0 &      NA &    4.750\\\\\n\t Chinchilla                 & Chinchilla    & herbi   & Rodentia        & domesticated & 12.5 & 1.5 & 0.1166667 & 11.5 & 0.00640 &    0.420\\\\\n\t Star-nosed mole            & Condylura     & omni    & Soricomorpha    & lc           & 10.3 & 2.2 &        NA & 13.7 & 0.00100 &    0.060\\\\\n\t African giant pouched rat  & Cricetomys    & omni    & Rodentia        & NA           &  8.3 & 2.0 &        NA & 15.7 & 0.00660 &    1.000\\\\\n\t Lesser short-tailed shrew  & Cryptotis     & omni    & Soricomorpha    & lc           &  9.1 & 1.4 & 0.1500000 & 14.9 & 0.00014 &    0.005\\\\\n\t Long-nosed armadillo       & Dasypus       & carni   & Cingulata       & lc           & 17.4 & 3.1 & 0.3833333 &  6.6 & 0.01080 &    3.500\\\\\n\t Tree hyrax                 & Dendrohyrax   & herbi   & Hyracoidea      & lc           &  5.3 & 0.5 &        NA & 18.7 & 0.01230 &    2.950\\\\\n\t North American Opossum     & Didelphis     & omni    & Didelphimorphia & lc           & 18.0 & 4.9 & 0.3333333 &  6.0 & 0.00630 &    1.700\\\\\n\t Asian elephant             & Elephas       & herbi   & Proboscidea     & en           &  3.9 &  NA &        NA & 20.1 & 4.60300 & 2547.000\\\\\n\t Big brown bat              & Eptesicus     & insecti & Chiroptera      & lc           & 19.7 & 3.9 & 0.1166667 &  4.3 & 0.00030 &    0.023\\\\\n\t Horse                      & Equus         & herbi   & Perissodactyla  & domesticated &  2.9 & 0.6 & 1.0000000 & 21.1 & 0.65500 &  521.000\\\\\n\t Donkey                     & Equus         & herbi   & Perissodactyla  & domesticated &  3.1 & 0.4 &        NA & 20.9 & 0.41900 &  187.000\\\\\n\t European hedgehog          & Erinaceus     & omni    & Erinaceomorpha  & lc           & 10.1 & 3.5 & 0.2833333 & 13.9 & 0.00350 &    0.770\\\\\n\t Patas monkey               & Erythrocebus  & omni    & Primates        & lc           & 10.9 & 1.1 &        NA & 13.1 & 0.11500 &   10.000\\\\\n\t Western american chipmunk  & Eutamias      & herbi   & Rodentia        & NA           & 14.9 &  NA &        NA &  9.1 &      NA &    0.071\\\\\n\t Domestic cat               & Felis         & carni   & Carnivora       & domesticated & 12.5 & 3.2 & 0.4166667 & 11.5 & 0.02560 &    3.300\\\\\n\t Galago                     & Galago        & omni    & Primates        & NA           &  9.8 & 1.1 & 0.5500000 & 14.2 & 0.00500 &    0.200\\\\\n\t Giraffe                    & Giraffa       & herbi   & Artiodactyla    & cd           &  1.9 & 0.4 &        NA & 22.1 &      NA &  899.995\\\\\n\t ⋮ & ⋮ & ⋮ & ⋮ & ⋮ & ⋮ & ⋮ & ⋮ & ⋮ & ⋮ & ⋮\\\\\n\t Baboon                         & Papio        & omni    & Primates       & NA           &  9.4 & 1.0 & 0.6666667 & 14.60 & 0.18000 &  25.235\\\\\n\t Desert hedgehog                & Paraechinus  & NA      & Erinaceomorpha & lc           & 10.3 & 2.7 &        NA & 13.70 & 0.00240 &   0.550\\\\\n\t Potto                          & Perodicticus & omni    & Primates       & lc           & 11.0 &  NA &        NA & 13.00 &      NA &   1.100\\\\\n\t Deer mouse                     & Peromyscus   & NA      & Rodentia       & NA           & 11.5 &  NA &        NA & 12.50 &      NA &   0.021\\\\\n\t Phalanger                      & Phalanger    & NA      & Diprotodontia  & NA           & 13.7 & 1.8 &        NA & 10.30 & 0.01140 &   1.620\\\\\n\t Caspian seal                   & Phoca        & carni   & Carnivora      & vu           &  3.5 & 0.4 &        NA & 20.50 &      NA &  86.000\\\\\n\t Common porpoise                & Phocoena     & carni   & Cetacea        & vu           &  5.6 &  NA &        NA & 18.45 &      NA &  53.180\\\\\n\t Potoroo                        & Potorous     & herbi   & Diprotodontia  & NA           & 11.1 & 1.5 &        NA & 12.90 &      NA &   1.100\\\\\n\t Giant armadillo                & Priodontes   & insecti & Cingulata      & en           & 18.1 & 6.1 &        NA &  5.90 & 0.08100 &  60.000\\\\\n\t Rock hyrax                     & Procavia     & NA      & Hyracoidea     & lc           &  5.4 & 0.5 &        NA & 18.60 & 0.02100 &   3.600\\\\\n\t Laboratory rat                 & Rattus       & herbi   & Rodentia       & lc           & 13.0 & 2.4 & 0.1833333 & 11.00 & 0.00190 &   0.320\\\\\n\t African striped mouse          & Rhabdomys    & omni    & Rodentia       & NA           &  8.7 &  NA &        NA & 15.30 &      NA &   0.044\\\\\n\t Squirrel monkey                & Saimiri      & omni    & Primates       & NA           &  9.6 & 1.4 &        NA & 14.40 & 0.02000 &   0.743\\\\\n\t Eastern american mole          & Scalopus     & insecti & Soricomorpha   & lc           &  8.4 & 2.1 & 0.1666667 & 15.60 & 0.00120 &   0.075\\\\\n\t Cotton rat                     & Sigmodon     & herbi   & Rodentia       & NA           & 11.3 & 1.1 & 0.1500000 & 12.70 & 0.00118 &   0.148\\\\\n\t Mole rat                       & Spalax       & NA      & Rodentia       & NA           & 10.6 & 2.4 &        NA & 13.40 & 0.00300 &   0.122\\\\\n\t Arctic ground squirrel         & Spermophilus & herbi   & Rodentia       & lc           & 16.6 &  NA &        NA &  7.40 & 0.00570 &   0.920\\\\\n\t Thirteen-lined ground squirrel & Spermophilus & herbi   & Rodentia       & lc           & 13.8 & 3.4 & 0.2166667 & 10.20 & 0.00400 &   0.101\\\\\n\t Golden-mantled ground squirrel & Spermophilus & herbi   & Rodentia       & lc           & 15.9 & 3.0 &        NA &  8.10 &      NA &   0.205\\\\\n\t Musk shrew                     & Suncus       & NA      & Soricomorpha   & NA           & 12.8 & 2.0 & 0.1833333 & 11.20 & 0.00033 &   0.048\\\\\n\t Pig                            & Sus          & omni    & Artiodactyla   & domesticated &  9.1 & 2.4 & 0.5000000 & 14.90 & 0.18000 &  86.250\\\\\n\t Short-nosed echidna            & Tachyglossus & insecti & Monotremata    & NA           &  8.6 &  NA &        NA & 15.40 & 0.02500 &   4.500\\\\\n\t Eastern american chipmunk      & Tamias       & herbi   & Rodentia       & NA           & 15.8 &  NA &        NA &  8.20 &      NA &   0.112\\\\\n\t Brazilian tapir                & Tapirus      & herbi   & Perissodactyla & vu           &  4.4 & 1.0 & 0.9000000 & 19.60 & 0.16900 & 207.501\\\\\n\t Tenrec                         & Tenrec       & omni    & Afrosoricida   & NA           & 15.6 & 2.3 &        NA &  8.40 & 0.00260 &   0.900\\\\\n\t Tree shrew                     & Tupaia       & omni    & Scandentia     & NA           &  8.9 & 2.6 & 0.2333333 & 15.10 & 0.00250 &   0.104\\\\\n\t Bottle-nosed dolphin           & Tursiops     & carni   & Cetacea        & NA           &  5.2 &  NA &        NA & 18.80 &      NA & 173.330\\\\\n\t Genet                          & Genetta      & carni   & Carnivora      & NA           &  6.3 & 1.3 &        NA & 17.70 & 0.01750 &   2.000\\\\\n\t Arctic fox                     & Vulpes       & carni   & Carnivora      & NA           & 12.5 &  NA &        NA & 11.50 & 0.04450 &   3.380\\\\\n\t Red fox                        & Vulpes       & carni   & Carnivora      & NA           &  9.8 & 2.4 & 0.3500000 & 14.20 & 0.05040 &   4.230\\\\\n\\end{tabular}\n",
            "text/plain": [
              "   name                           genus         vore    order          \n",
              "1  Cheetah                        Acinonyx      carni   Carnivora      \n",
              "2  Owl monkey                     Aotus         omni    Primates       \n",
              "3  Mountain beaver                Aplodontia    herbi   Rodentia       \n",
              "4  Greater short-tailed shrew     Blarina       omni    Soricomorpha   \n",
              "5  Cow                            Bos           herbi   Artiodactyla   \n",
              "6  Three-toed sloth               Bradypus      herbi   Pilosa         \n",
              "7  Northern fur seal              Callorhinus   carni   Carnivora      \n",
              "8  Vesper mouse                   Calomys       NA      Rodentia       \n",
              "9  Dog                            Canis         carni   Carnivora      \n",
              "10 Roe deer                       Capreolus     herbi   Artiodactyla   \n",
              "11 Goat                           Capri         herbi   Artiodactyla   \n",
              "12 Guinea pig                     Cavis         herbi   Rodentia       \n",
              "13 Grivet                         Cercopithecus omni    Primates       \n",
              "14 Chinchilla                     Chinchilla    herbi   Rodentia       \n",
              "15 Star-nosed mole                Condylura     omni    Soricomorpha   \n",
              "16 African giant pouched rat      Cricetomys    omni    Rodentia       \n",
              "17 Lesser short-tailed shrew      Cryptotis     omni    Soricomorpha   \n",
              "18 Long-nosed armadillo           Dasypus       carni   Cingulata      \n",
              "19 Tree hyrax                     Dendrohyrax   herbi   Hyracoidea     \n",
              "20 North American Opossum         Didelphis     omni    Didelphimorphia\n",
              "21 Asian elephant                 Elephas       herbi   Proboscidea    \n",
              "22 Big brown bat                  Eptesicus     insecti Chiroptera     \n",
              "23 Horse                          Equus         herbi   Perissodactyla \n",
              "24 Donkey                         Equus         herbi   Perissodactyla \n",
              "25 European hedgehog              Erinaceus     omni    Erinaceomorpha \n",
              "26 Patas monkey                   Erythrocebus  omni    Primates       \n",
              "27 Western american chipmunk      Eutamias      herbi   Rodentia       \n",
              "28 Domestic cat                   Felis         carni   Carnivora      \n",
              "29 Galago                         Galago        omni    Primates       \n",
              "30 Giraffe                        Giraffa       herbi   Artiodactyla   \n",
              "⋮  ⋮                              ⋮             ⋮       ⋮              \n",
              "54 Baboon                         Papio         omni    Primates       \n",
              "55 Desert hedgehog                Paraechinus   NA      Erinaceomorpha \n",
              "56 Potto                          Perodicticus  omni    Primates       \n",
              "57 Deer mouse                     Peromyscus    NA      Rodentia       \n",
              "58 Phalanger                      Phalanger     NA      Diprotodontia  \n",
              "59 Caspian seal                   Phoca         carni   Carnivora      \n",
              "60 Common porpoise                Phocoena      carni   Cetacea        \n",
              "61 Potoroo                        Potorous      herbi   Diprotodontia  \n",
              "62 Giant armadillo                Priodontes    insecti Cingulata      \n",
              "63 Rock hyrax                     Procavia      NA      Hyracoidea     \n",
              "64 Laboratory rat                 Rattus        herbi   Rodentia       \n",
              "65 African striped mouse          Rhabdomys     omni    Rodentia       \n",
              "66 Squirrel monkey                Saimiri       omni    Primates       \n",
              "67 Eastern american mole          Scalopus      insecti Soricomorpha   \n",
              "68 Cotton rat                     Sigmodon      herbi   Rodentia       \n",
              "69 Mole rat                       Spalax        NA      Rodentia       \n",
              "70 Arctic ground squirrel         Spermophilus  herbi   Rodentia       \n",
              "71 Thirteen-lined ground squirrel Spermophilus  herbi   Rodentia       \n",
              "72 Golden-mantled ground squirrel Spermophilus  herbi   Rodentia       \n",
              "73 Musk shrew                     Suncus        NA      Soricomorpha   \n",
              "74 Pig                            Sus           omni    Artiodactyla   \n",
              "75 Short-nosed echidna            Tachyglossus  insecti Monotremata    \n",
              "76 Eastern american chipmunk      Tamias        herbi   Rodentia       \n",
              "77 Brazilian tapir                Tapirus       herbi   Perissodactyla \n",
              "78 Tenrec                         Tenrec        omni    Afrosoricida   \n",
              "79 Tree shrew                     Tupaia        omni    Scandentia     \n",
              "80 Bottle-nosed dolphin           Tursiops      carni   Cetacea        \n",
              "81 Genet                          Genetta       carni   Carnivora      \n",
              "82 Arctic fox                     Vulpes        carni   Carnivora      \n",
              "83 Red fox                        Vulpes        carni   Carnivora      \n",
              "   conservation sleep_total sleep_rem sleep_cycle awake brainwt bodywt  \n",
              "1  lc           12.1         NA              NA   11.9       NA   50.000\n",
              "2  NA           17.0        1.8              NA    7.0  0.01550    0.480\n",
              "3  nt           14.4        2.4              NA    9.6       NA    1.350\n",
              "4  lc           14.9        2.3       0.1333333    9.1  0.00029    0.019\n",
              "5  domesticated  4.0        0.7       0.6666667   20.0  0.42300  600.000\n",
              "6  NA           14.4        2.2       0.7666667    9.6       NA    3.850\n",
              "7  vu            8.7        1.4       0.3833333   15.3       NA   20.490\n",
              "8  NA            7.0         NA              NA   17.0       NA    0.045\n",
              "9  domesticated 10.1        2.9       0.3333333   13.9  0.07000   14.000\n",
              "10 lc            3.0         NA              NA   21.0  0.09820   14.800\n",
              "11 lc            5.3        0.6              NA   18.7  0.11500   33.500\n",
              "12 domesticated  9.4        0.8       0.2166667   14.6  0.00550    0.728\n",
              "13 lc           10.0        0.7              NA   14.0       NA    4.750\n",
              "14 domesticated 12.5        1.5       0.1166667   11.5  0.00640    0.420\n",
              "15 lc           10.3        2.2              NA   13.7  0.00100    0.060\n",
              "16 NA            8.3        2.0              NA   15.7  0.00660    1.000\n",
              "17 lc            9.1        1.4       0.1500000   14.9  0.00014    0.005\n",
              "18 lc           17.4        3.1       0.3833333    6.6  0.01080    3.500\n",
              "19 lc            5.3        0.5              NA   18.7  0.01230    2.950\n",
              "20 lc           18.0        4.9       0.3333333    6.0  0.00630    1.700\n",
              "21 en            3.9         NA              NA   20.1  4.60300 2547.000\n",
              "22 lc           19.7        3.9       0.1166667    4.3  0.00030    0.023\n",
              "23 domesticated  2.9        0.6       1.0000000   21.1  0.65500  521.000\n",
              "24 domesticated  3.1        0.4              NA   20.9  0.41900  187.000\n",
              "25 lc           10.1        3.5       0.2833333   13.9  0.00350    0.770\n",
              "26 lc           10.9        1.1              NA   13.1  0.11500   10.000\n",
              "27 NA           14.9         NA              NA    9.1       NA    0.071\n",
              "28 domesticated 12.5        3.2       0.4166667   11.5  0.02560    3.300\n",
              "29 NA            9.8        1.1       0.5500000   14.2  0.00500    0.200\n",
              "30 cd            1.9        0.4              NA   22.1       NA  899.995\n",
              "⋮  ⋮            ⋮           ⋮         ⋮           ⋮     ⋮       ⋮       \n",
              "54 NA            9.4        1.0       0.6666667   14.60 0.18000  25.235 \n",
              "55 lc           10.3        2.7              NA   13.70 0.00240   0.550 \n",
              "56 lc           11.0         NA              NA   13.00      NA   1.100 \n",
              "57 NA           11.5         NA              NA   12.50      NA   0.021 \n",
              "58 NA           13.7        1.8              NA   10.30 0.01140   1.620 \n",
              "59 vu            3.5        0.4              NA   20.50      NA  86.000 \n",
              "60 vu            5.6         NA              NA   18.45      NA  53.180 \n",
              "61 NA           11.1        1.5              NA   12.90      NA   1.100 \n",
              "62 en           18.1        6.1              NA    5.90 0.08100  60.000 \n",
              "63 lc            5.4        0.5              NA   18.60 0.02100   3.600 \n",
              "64 lc           13.0        2.4       0.1833333   11.00 0.00190   0.320 \n",
              "65 NA            8.7         NA              NA   15.30      NA   0.044 \n",
              "66 NA            9.6        1.4              NA   14.40 0.02000   0.743 \n",
              "67 lc            8.4        2.1       0.1666667   15.60 0.00120   0.075 \n",
              "68 NA           11.3        1.1       0.1500000   12.70 0.00118   0.148 \n",
              "69 NA           10.6        2.4              NA   13.40 0.00300   0.122 \n",
              "70 lc           16.6         NA              NA    7.40 0.00570   0.920 \n",
              "71 lc           13.8        3.4       0.2166667   10.20 0.00400   0.101 \n",
              "72 lc           15.9        3.0              NA    8.10      NA   0.205 \n",
              "73 NA           12.8        2.0       0.1833333   11.20 0.00033   0.048 \n",
              "74 domesticated  9.1        2.4       0.5000000   14.90 0.18000  86.250 \n",
              "75 NA            8.6         NA              NA   15.40 0.02500   4.500 \n",
              "76 NA           15.8         NA              NA    8.20      NA   0.112 \n",
              "77 vu            4.4        1.0       0.9000000   19.60 0.16900 207.501 \n",
              "78 NA           15.6        2.3              NA    8.40 0.00260   0.900 \n",
              "79 NA            8.9        2.6       0.2333333   15.10 0.00250   0.104 \n",
              "80 NA            5.2         NA              NA   18.80      NA 173.330 \n",
              "81 NA            6.3        1.3              NA   17.70 0.01750   2.000 \n",
              "82 NA           12.5         NA              NA   11.50 0.04450   3.380 \n",
              "83 NA            9.8        2.4       0.3500000   14.20 0.05040   4.230 "
            ]
          },
          "metadata": {}
        }
      ]
    },
    {
      "cell_type": "code",
      "source": [
        "df2 <- msleep %>%\n",
        "  filter(bodywt > 30) %>%\n",
        "  group_by(order) %>%\n",
        "  mutate (mean_sleep_total = mean(sleep_total)) %>%\n",
        "  summarise(mean_sleep_total = mean(sleep_total))\n",
        "df2"
      ],
      "metadata": {
        "id": "S_DiEaOznfcy",
        "outputId": "203f17e3-3052-438d-b977-a4ba26a0766b",
        "colab": {
          "base_uri": "https://localhost:8080/",
          "height": 317
        }
      },
      "execution_count": null,
      "outputs": [
        {
          "output_type": "display_data",
          "data": {
            "text/html": [
              "<table class=\"dataframe\">\n",
              "<caption>A tibble: 7 × 2</caption>\n",
              "<thead>\n",
              "\t<tr><th scope=col>order</th><th scope=col>mean_sleep_total</th></tr>\n",
              "\t<tr><th scope=col>&lt;chr&gt;</th><th scope=col>&lt;dbl&gt;</th></tr>\n",
              "</thead>\n",
              "<tbody>\n",
              "\t<tr><td>Artiodactyla  </td><td> 4.820000</td></tr>\n",
              "\t<tr><td>Carnivora     </td><td>10.250000</td></tr>\n",
              "\t<tr><td>Cetacea       </td><td> 4.500000</td></tr>\n",
              "\t<tr><td>Cingulata     </td><td>18.100000</td></tr>\n",
              "\t<tr><td>Perissodactyla</td><td> 3.466667</td></tr>\n",
              "\t<tr><td>Primates      </td><td> 8.850000</td></tr>\n",
              "\t<tr><td>Proboscidea   </td><td> 3.600000</td></tr>\n",
              "</tbody>\n",
              "</table>\n"
            ],
            "text/markdown": "\nA tibble: 7 × 2\n\n| order &lt;chr&gt; | mean_sleep_total &lt;dbl&gt; |\n|---|---|\n| Artiodactyla   |  4.820000 |\n| Carnivora      | 10.250000 |\n| Cetacea        |  4.500000 |\n| Cingulata      | 18.100000 |\n| Perissodactyla |  3.466667 |\n| Primates       |  8.850000 |\n| Proboscidea    |  3.600000 |\n\n",
            "text/latex": "A tibble: 7 × 2\n\\begin{tabular}{ll}\n order & mean\\_sleep\\_total\\\\\n <chr> & <dbl>\\\\\n\\hline\n\t Artiodactyla   &  4.820000\\\\\n\t Carnivora      & 10.250000\\\\\n\t Cetacea        &  4.500000\\\\\n\t Cingulata      & 18.100000\\\\\n\t Perissodactyla &  3.466667\\\\\n\t Primates       &  8.850000\\\\\n\t Proboscidea    &  3.600000\\\\\n\\end{tabular}\n",
            "text/plain": [
              "  order          mean_sleep_total\n",
              "1 Artiodactyla    4.820000       \n",
              "2 Carnivora      10.250000       \n",
              "3 Cetacea         4.500000       \n",
              "4 Cingulata      18.100000       \n",
              "5 Perissodactyla  3.466667       \n",
              "6 Primates        8.850000       \n",
              "7 Proboscidea     3.600000       "
            ]
          },
          "metadata": {}
        }
      ]
    },
    {
      "cell_type": "code",
      "source": [
        "ggplot(df2, aes(x=order, y=mean_sleep_total)) +geom_bar(stat='identity')"
      ],
      "metadata": {
        "id": "jcec7Jd3qFn_",
        "outputId": "15ebf958-151d-4a3a-bf6d-71feaf8a4e9c",
        "colab": {
          "base_uri": "https://localhost:8080/",
          "height": 437
        }
      },
      "execution_count": null,
      "outputs": [
        {
          "output_type": "display_data",
          "data": {
            "text/plain": [
              "plot without title"
            ],
            "image/png": "[encoded data removed]"
          },
          "metadata": {
            "image/png": {
              "width": 420,
              "height": 420
            }
          }
        }
      ]
    },
    {
      "cell_type": "markdown",
      "source": [
        "To fix the graph plot, I made sure to add my y aesthetic and a paramater to the geom.bar function which said that the stats I was measuring were the identities of both x and y."
      ],
      "metadata": {
        "id": "QsupheFnPAPP"
      }
    },
    {
      "cell_type": "markdown",
      "source": [
        "## 3. Clean and Analyze Data Using R (4 pts)\n",
        "\n",
        "In the cells below use R to perform the following data cleaning steps on this file:\n",
        "https://raw.githubusercontent.com/nmagee/ds1002/main/data/social-media-users.csv\n",
        "\n",
        "1. Remove any duplicate rows.\n",
        "2. Remove any records where `last_login` or `birthdate` are empty.\n",
        "3. Display only the records with the 10 highest `follower` counts.\n",
        "4. Determine counts of users when grouped by continent."
      ],
      "metadata": {
        "id": "-2ZaFcCCv3o8"
      }
    },
    {
      "cell_type": "code",
      "source": [
        "#\n",
        "df3 <- read.csv (\"https://raw.githubusercontent.com/nmagee/ds1002/main/data/social-media-users.csv\");df3"
      ],
      "metadata": {
        "id": "V4nBsdVsyauQ",
        "colab": {
          "base_uri": "https://localhost:8080/",
          "height": 1000
        },
        "outputId": "7f8d4003-ae07-4aa3-d65d-a3247dd1c1f6"
      },
      "execution_count": null,
      "outputs": [
        {
          "output_type": "display_data",
          "data": {
            "text/html": [
              "<table class=\"dataframe\">\n",
              "<caption>A data.frame: 1318 × 8</caption>\n",
              "<thead>\n",
              "\t<tr><th scope=col>username</th><th scope=col>full_name</th><th scope=col>birthdate</th><th scope=col>email</th><th scope=col>continent</th><th scope=col>followers</th><th scope=col>last_login</th><th scope=col>interests</th></tr>\n",
              "\t<tr><th scope=col>&lt;chr&gt;</th><th scope=col>&lt;chr&gt;</th><th scope=col>&lt;chr&gt;</th><th scope=col>&lt;chr&gt;</th><th scope=col>&lt;chr&gt;</th><th scope=col>&lt;int&gt;</th><th scope=col>&lt;chr&gt;</th><th scope=col>&lt;chr&gt;</th></tr>\n",
              "</thead>\n",
              "<tbody>\n",
              "\t<tr><td>ckippen0     </td><td>Clevey Kippen    </td><td>5/1/1991  </td><td>ckippen0@t-online.de              </td><td>NA</td><td>12362</td><td>5/16/2023 </td><td>music </td></tr>\n",
              "\t<tr><td>tgergler1    </td><td>Tedi Gergler     </td><td>10/5/1998 </td><td>tgergler1@salon.com               </td><td>NA</td><td>21360</td><td>8/20/2020 </td><td>sports</td></tr>\n",
              "\t<tr><td>spomfrett2   </td><td>Steffie Pomfrett </td><td>          </td><td>spomfrett2@imdb.com               </td><td>NA</td><td>19530</td><td>11/19/2022</td><td>sports</td></tr>\n",
              "\t<tr><td>rphettis3    </td><td>Ruddy Phettis    </td><td>6/18/1984 </td><td>rphettis3@npr.org                 </td><td>EU</td><td>80047</td><td>9/20/2023 </td><td>travel</td></tr>\n",
              "\t<tr><td>ngilcriest4  </td><td>Nico Gilcriest   </td><td>10/11/1993</td><td>ngilcriest4@dyndns.org            </td><td>NA</td><td>33544</td><td>          </td><td>music </td></tr>\n",
              "\t<tr><td>fhampson5    </td><td>Farrell Hampson  </td><td>11/7/1985 </td><td>fhampson5@lulu.com                </td><td>OC</td><td>72161</td><td>          </td><td>sports</td></tr>\n",
              "\t<tr><td>ttotman6     </td><td>Tamqrah Totman   </td><td>8/7/1986  </td><td>ttotman6@elpais.com               </td><td>AF</td><td>42669</td><td>3/10/2023 </td><td>music </td></tr>\n",
              "\t<tr><td>bdennes7     </td><td>Bonita Dennes    </td><td>          </td><td>bdennes7@cnet.com                 </td><td>NA</td><td>22516</td><td>2/3/2023  </td><td>sports</td></tr>\n",
              "\t<tr><td>kgrigoryev8  </td><td>Krishna Grigoryev</td><td>5/25/1990 </td><td>kgrigoryev8@quantcast.com         </td><td>EU</td><td>93923</td><td>1/30/2023 </td><td>travel</td></tr>\n",
              "\t<tr><td>mbathoe9     </td><td>Mallissa Bathoe  </td><td>          </td><td>mbathoe9@bloomberg.com            </td><td>AS</td><td>18554</td><td>3/5/2022  </td><td>travel</td></tr>\n",
              "\t<tr><td>hallensona   </td><td>Hayward Allenson </td><td>3/15/1983 </td><td>hallensona@wp.com                 </td><td>AF</td><td>81042</td><td>          </td><td>travel</td></tr>\n",
              "\t<tr><td>mchittockb   </td><td>Myriam Chittock  </td><td>1/26/1989 </td><td>mchittockb@uiuc.edu               </td><td>AF</td><td>46304</td><td>8/29/2023 </td><td>sports</td></tr>\n",
              "\t<tr><td>mfranzewitchc</td><td>Max Franzewitch  </td><td>12/25/1997</td><td>mfranzewitchc@paginegialle.it     </td><td>NA</td><td> 5640</td><td>          </td><td>travel</td></tr>\n",
              "\t<tr><td>aeasbyd      </td><td>Alessandra Easby </td><td>1/5/1991  </td><td>aeasbyd@google.ca                 </td><td>AF</td><td>16786</td><td>6/15/2023 </td><td>sports</td></tr>\n",
              "\t<tr><td>hschubarte   </td><td>Hubert Schubart  </td><td>11/23/1984</td><td>hschubarte@friendfeed.com         </td><td>NA</td><td>74336</td><td>          </td><td>sports</td></tr>\n",
              "\t<tr><td>dleishmanf   </td><td>Dyane Leishman   </td><td>2/12/1990 </td><td>dleishmanf@lycos.com              </td><td>NA</td><td>85070</td><td>6/5/2021  </td><td>travel</td></tr>\n",
              "\t<tr><td>scoilsg      </td><td>Shayla Coils     </td><td>          </td><td>scoilsg@hhs.gov                   </td><td>NA</td><td>79667</td><td>10/14/2021</td><td>travel</td></tr>\n",
              "\t<tr><td>bkrzysztofh  </td><td>Bendick Krzysztof</td><td>10/19/1985</td><td>bkrzysztofh@nationalgeographic.com</td><td>NA</td><td>11748</td><td>          </td><td>music </td></tr>\n",
              "\t<tr><td>omarusiki    </td><td>Otha Marusik     </td><td>12/4/1992 </td><td>omarusiki@cdbaby.com              </td><td>AF</td><td>93981</td><td>2/4/2022  </td><td>travel</td></tr>\n",
              "\t<tr><td>craglesj     </td><td>Constancia Ragles</td><td>          </td><td>craglesj@e-recht24.de             </td><td>NA</td><td>85300</td><td>9/28/2021 </td><td>sports</td></tr>\n",
              "\t<tr><td>sspenclayk   </td><td>Scott Spenclay   </td><td>12/7/1989 </td><td>sspenclayk@wikispaces.com         </td><td>AF</td><td>31745</td><td>11/29/2022</td><td>sports</td></tr>\n",
              "\t<tr><td>gklinckl     </td><td>Georgetta Klinck </td><td>7/26/1996 </td><td>gklinckl@over-blog.com            </td><td>SA</td><td>69386</td><td>9/10/2023 </td><td>sports</td></tr>\n",
              "\t<tr><td>rhollowm     </td><td>Riccardo Hollow  </td><td>1/18/1980 </td><td>rhollowm@dyndns.org               </td><td>OC</td><td>73088</td><td>1/22/2020 </td><td>sports</td></tr>\n",
              "\t<tr><td>atrouncen    </td><td>Aube Trounce     </td><td>9/5/1984  </td><td>atrouncen@shinystat.com           </td><td>AS</td><td>51692</td><td>          </td><td>music </td></tr>\n",
              "\t<tr><td>jquareo      </td><td>Joey Quare       </td><td>11/19/1999</td><td>jquareo@furl.net                  </td><td>AF</td><td>68116</td><td>          </td><td>sports</td></tr>\n",
              "\t<tr><td>rbellonp     </td><td>Rodolph Bellon   </td><td>8/30/2002 </td><td>rbellonp@cisco.com                </td><td>AF</td><td>96337</td><td>          </td><td>music </td></tr>\n",
              "\t<tr><td>chawesq      </td><td>Courtnay Hawes   </td><td>          </td><td>chawesq@deviantart.com            </td><td>AF</td><td>  435</td><td>3/19/2023 </td><td>music </td></tr>\n",
              "\t<tr><td>acheshirr    </td><td>Ali Cheshir      </td><td>4/19/1998 </td><td>acheshirr@phoca.cz                </td><td>AS</td><td>79802</td><td>          </td><td>sports</td></tr>\n",
              "\t<tr><td>galdrins     </td><td>Gerick Aldrin    </td><td>7/31/1995 </td><td>galdrins@ca.gov                   </td><td>NA</td><td>96491</td><td>5/26/2022 </td><td>music </td></tr>\n",
              "\t<tr><td>ddimmockt    </td><td>Didi Dimmock     </td><td>5/15/1985 </td><td>ddimmockt@wired.com               </td><td>EU</td><td>81726</td><td>4/23/2021 </td><td>sports</td></tr>\n",
              "\t<tr><td>⋮</td><td>⋮</td><td>⋮</td><td>⋮</td><td>⋮</td><td>⋮</td><td>⋮</td><td>⋮</td></tr>\n",
              "\t<tr><td>sargerqy      </td><td>Shane Arger         </td><td>2/21/1992 </td><td>sargerqy@exblog.jp             </td><td>AF</td><td>53022</td><td>12/7/2021 </td><td>music </td></tr>\n",
              "\t<tr><td>jgiorgiuttiqz </td><td>Joy Giorgiutti      </td><td>5/5/1988  </td><td>jgiorgiuttiqz@timesonline.co.uk</td><td>NA</td><td>26125</td><td>6/1/2020  </td><td>travel</td></tr>\n",
              "\t<tr><td>bgerwoodr0    </td><td>Beverlee Gerwood    </td><td>1/29/1980 </td><td>bgerwoodr0@fotki.com           </td><td>AS</td><td>22633</td><td>          </td><td>music </td></tr>\n",
              "\t<tr><td>fheinker1     </td><td>Fleurette Heinke    </td><td>          </td><td>fheinker1@google.fr            </td><td>NA</td><td>39891</td><td>8/17/2020 </td><td>travel</td></tr>\n",
              "\t<tr><td>acashellr2    </td><td>Aridatha Cashell    </td><td>          </td><td>acashellr2@mediafire.com       </td><td>NA</td><td>84669</td><td>7/29/2022 </td><td>music </td></tr>\n",
              "\t<tr><td>dupstellr3    </td><td>Durward Upstell     </td><td>          </td><td>dupstellr3@buzzfeed.com        </td><td>NA</td><td>58154</td><td>6/8/2020  </td><td>sports</td></tr>\n",
              "\t<tr><td>ksturdeyr4    </td><td>Krissie Sturdey     </td><td>8/13/1980 </td><td>ksturdeyr4@skyrock.com         </td><td>SA</td><td>37880</td><td>4/17/2020 </td><td>travel</td></tr>\n",
              "\t<tr><td>qrogeronr5    </td><td>Quent Rogeron       </td><td>          </td><td>qrogeronr5@merriam-webster.com </td><td>SA</td><td>76526</td><td>8/22/2023 </td><td>travel</td></tr>\n",
              "\t<tr><td>ggerrillr6    </td><td>Genevieve Gerrill   </td><td>8/16/1994 </td><td>ggerrillr6@xrea.com            </td><td>OC</td><td>78326</td><td>4/30/2022 </td><td>sports</td></tr>\n",
              "\t<tr><td>ftothacotr7   </td><td>Faustine Tothacot   </td><td>12/3/1998 </td><td>ftothacotr7@usgs.gov           </td><td>NA</td><td> 9927</td><td>          </td><td>sports</td></tr>\n",
              "\t<tr><td>dfordhamr8    </td><td>Dean Fordham        </td><td>5/6/1989  </td><td>dfordhamr8@google.com.au       </td><td>NA</td><td>94828</td><td>          </td><td>music </td></tr>\n",
              "\t<tr><td>rleningr9     </td><td>Roch Lening         </td><td>9/1/1981  </td><td>rleningr9@taobao.com           </td><td>OC</td><td>21333</td><td>2/23/2020 </td><td>music </td></tr>\n",
              "\t<tr><td>gbilbeyra     </td><td>Grannie Bilbey      </td><td>6/22/1992 </td><td>gbilbeyra@wisc.edu             </td><td>AS</td><td>77316</td><td>5/4/2022  </td><td>music </td></tr>\n",
              "\t<tr><td>araddenrb     </td><td>Anneliese Radden    </td><td>          </td><td>araddenrb@umn.edu              </td><td>NA</td><td>16230</td><td>          </td><td>music </td></tr>\n",
              "\t<tr><td>vskirlinrc    </td><td>Van Skirlin         </td><td>          </td><td>vskirlinrc@sphinn.com          </td><td>NA</td><td>14500</td><td>6/21/2021 </td><td>music </td></tr>\n",
              "\t<tr><td>efursserd     </td><td>Ekaterina Fursse    </td><td>7/13/1994 </td><td>efursserd@flickr.com           </td><td>AS</td><td>83588</td><td>          </td><td>travel</td></tr>\n",
              "\t<tr><td>acaldicottre  </td><td>Ashlee Caldicott    </td><td>2/2/1996  </td><td>acaldicottre@furl.net          </td><td>OC</td><td>67530</td><td>2/15/2022 </td><td>music </td></tr>\n",
              "\t<tr><td>fdorgonrf     </td><td>Fritz Dorgon        </td><td>          </td><td>fdorgonrf@homestead.com        </td><td>AS</td><td>33272</td><td>          </td><td>music </td></tr>\n",
              "\t<tr><td>kklicherg     </td><td>Kristine Kliche     </td><td>10/20/1983</td><td>kklicherg@indiatimes.com       </td><td>EU</td><td> 8487</td><td>          </td><td>music </td></tr>\n",
              "\t<tr><td>jbirchallrh   </td><td>Jinny Birchall      </td><td>11/3/1987 </td><td>jbirchallrh@senate.gov         </td><td>AF</td><td>76102</td><td>3/4/2022  </td><td>music </td></tr>\n",
              "\t<tr><td>lnorwellri    </td><td>Lelia Norwell       </td><td>          </td><td>lnorwellri@slate.com           </td><td>SA</td><td>51920</td><td>1/11/2023 </td><td>travel</td></tr>\n",
              "\t<tr><td>fwegenenrj    </td><td>Filippa Wegenen     </td><td>10/25/1994</td><td>fwegenenrj@nbcnews.com         </td><td>NA</td><td>68133</td><td>9/20/2023 </td><td>travel</td></tr>\n",
              "\t<tr><td>bpierrork     </td><td>Bobbie Pierro       </td><td>5/27/1991 </td><td>bpierrork@rambler.ru           </td><td>NA</td><td>81408</td><td>6/6/2023  </td><td>sports</td></tr>\n",
              "\t<tr><td>hransomrl     </td><td>Helenka Ransom      </td><td>          </td><td>hransomrl@qq.com               </td><td>EU</td><td>69467</td><td>7/29/2023 </td><td>music </td></tr>\n",
              "\t<tr><td>vmacterrellyrm</td><td>Virginie MacTerrelly</td><td>10/8/1994 </td><td>vmacterrellyrm@dailymotion.com </td><td>AS</td><td>   81</td><td>9/11/2023 </td><td>sports</td></tr>\n",
              "\t<tr><td>sschafflerrn  </td><td>Sallyann Schaffler  </td><td>12/7/1999 </td><td>sschafflerrn@wsj.com           </td><td>OC</td><td>89752</td><td>9/20/2020 </td><td>sports</td></tr>\n",
              "\t<tr><td>nilyinskiro   </td><td>Nanette Ilyinski    </td><td>5/13/1989 </td><td>nilyinskiro@123-reg.co.uk      </td><td>NA</td><td>47332</td><td>11/16/2020</td><td>sports</td></tr>\n",
              "\t<tr><td>sgeertzrp     </td><td>Stephen Geertz      </td><td>9/6/1994  </td><td>sgeertzrp@hp.com               </td><td>NA</td><td>36511</td><td>11/19/2022</td><td>music </td></tr>\n",
              "\t<tr><td>cchurchmanrq  </td><td>Chrisse Churchman   </td><td>4/23/1998 </td><td>cchurchmanrq@qq.com            </td><td>NA</td><td>84037</td><td>2/12/2022 </td><td>music </td></tr>\n",
              "\t<tr><td>crembrantrr   </td><td>Clementine Rembrant </td><td>3/15/2001 </td><td>crembrantrr@who.int            </td><td>NA</td><td>11336</td><td>3/2/2020  </td><td>music </td></tr>\n",
              "</tbody>\n",
              "</table>\n"
            ],
            "text/markdown": "\nA data.frame: 1318 × 8\n\n| username &lt;chr&gt; | full_name &lt;chr&gt; | birthdate &lt;chr&gt; | email &lt;chr&gt; | continent &lt;chr&gt; | followers &lt;int&gt; | last_login &lt;chr&gt; | interests &lt;chr&gt; |\n|---|---|---|---|---|---|---|---|\n| ckippen0      | Clevey Kippen     | 5/1/1991   | ckippen0@t-online.de               | NA | 12362 | 5/16/2023  | music  |\n| tgergler1     | Tedi Gergler      | 10/5/1998  | tgergler1@salon.com                | NA | 21360 | 8/20/2020  | sports |\n| spomfrett2    | Steffie Pomfrett  | <!----> | spomfrett2@imdb.com                | NA | 19530 | 11/19/2022 | sports |\n| rphettis3     | Ruddy Phettis     | 6/18/1984  | rphettis3@npr.org                  | EU | 80047 | 9/20/2023  | travel |\n| ngilcriest4   | Nico Gilcriest    | 10/11/1993 | ngilcriest4@dyndns.org             | NA | 33544 | <!----> | music  |\n| fhampson5     | Farrell Hampson   | 11/7/1985  | fhampson5@lulu.com                 | OC | 72161 | <!----> | sports |\n| ttotman6      | Tamqrah Totman    | 8/7/1986   | ttotman6@elpais.com                | AF | 42669 | 3/10/2023  | music  |\n| bdennes7      | Bonita Dennes     | <!----> | bdennes7@cnet.com                  | NA | 22516 | 2/3/2023   | sports |\n| kgrigoryev8   | Krishna Grigoryev | 5/25/1990  | kgrigoryev8@quantcast.com          | EU | 93923 | 1/30/2023  | travel |\n| mbathoe9      | Mallissa Bathoe   | <!----> | mbathoe9@bloomberg.com             | AS | 18554 | 3/5/2022   | travel |\n| hallensona    | Hayward Allenson  | 3/15/1983  | hallensona@wp.com                  | AF | 81042 | <!----> | travel |\n| mchittockb    | Myriam Chittock   | 1/26/1989  | mchittockb@uiuc.edu                | AF | 46304 | 8/29/2023  | sports |\n| mfranzewitchc | Max Franzewitch   | 12/25/1997 | mfranzewitchc@paginegialle.it      | NA |  5640 | <!----> | travel |\n| aeasbyd       | Alessandra Easby  | 1/5/1991   | aeasbyd@google.ca                  | AF | 16786 | 6/15/2023  | sports |\n| hschubarte    | Hubert Schubart   | 11/23/1984 | hschubarte@friendfeed.com          | NA | 74336 | <!----> | sports |\n| dleishmanf    | Dyane Leishman    | 2/12/1990  | dleishmanf@lycos.com               | NA | 85070 | 6/5/2021   | travel |\n| scoilsg       | Shayla Coils      | <!----> | scoilsg@hhs.gov                    | NA | 79667 | 10/14/2021 | travel |\n| bkrzysztofh   | Bendick Krzysztof | 10/19/1985 | bkrzysztofh@nationalgeographic.com | NA | 11748 | <!----> | music  |\n| omarusiki     | Otha Marusik      | 12/4/1992  | omarusiki@cdbaby.com               | AF | 93981 | 2/4/2022   | travel |\n| craglesj      | Constancia Ragles | <!----> | craglesj@e-recht24.de              | NA | 85300 | 9/28/2021  | sports |\n| sspenclayk    | Scott Spenclay    | 12/7/1989  | sspenclayk@wikispaces.com          | AF | 31745 | 11/29/2022 | sports |\n| gklinckl      | Georgetta Klinck  | 7/26/1996  | gklinckl@over-blog.com             | SA | 69386 | 9/10/2023  | sports |\n| rhollowm      | Riccardo Hollow   | 1/18/1980  | rhollowm@dyndns.org                | OC | 73088 | 1/22/2020  | sports |\n| atrouncen     | Aube Trounce      | 9/5/1984   | atrouncen@shinystat.com            | AS | 51692 | <!----> | music  |\n| jquareo       | Joey Quare        | 11/19/1999 | jquareo@furl.net                   | AF | 68116 | <!----> | sports |\n| rbellonp      | Rodolph Bellon    | 8/30/2002  | rbellonp@cisco.com                 | AF | 96337 | <!----> | music  |\n| chawesq       | Courtnay Hawes    | <!----> | chawesq@deviantart.com             | AF |   435 | 3/19/2023  | music  |\n| acheshirr     | Ali Cheshir       | 4/19/1998  | acheshirr@phoca.cz                 | AS | 79802 | <!----> | sports |\n| galdrins      | Gerick Aldrin     | 7/31/1995  | galdrins@ca.gov                    | NA | 96491 | 5/26/2022  | music  |\n| ddimmockt     | Didi Dimmock      | 5/15/1985  | ddimmockt@wired.com                | EU | 81726 | 4/23/2021  | sports |\n| ⋮ | ⋮ | ⋮ | ⋮ | ⋮ | ⋮ | ⋮ | ⋮ |\n| sargerqy       | Shane Arger          | 2/21/1992  | sargerqy@exblog.jp              | AF | 53022 | 12/7/2021  | music  |\n| jgiorgiuttiqz  | Joy Giorgiutti       | 5/5/1988   | jgiorgiuttiqz@timesonline.co.uk | NA | 26125 | 6/1/2020   | travel |\n| bgerwoodr0     | Beverlee Gerwood     | 1/29/1980  | bgerwoodr0@fotki.com            | AS | 22633 | <!----> | music  |\n| fheinker1      | Fleurette Heinke     | <!----> | fheinker1@google.fr             | NA | 39891 | 8/17/2020  | travel |\n| acashellr2     | Aridatha Cashell     | <!----> | acashellr2@mediafire.com        | NA | 84669 | 7/29/2022  | music  |\n| dupstellr3     | Durward Upstell      | <!----> | dupstellr3@buzzfeed.com         | NA | 58154 | 6/8/2020   | sports |\n| ksturdeyr4     | Krissie Sturdey      | 8/13/1980  | ksturdeyr4@skyrock.com          | SA | 37880 | 4/17/2020  | travel |\n| qrogeronr5     | Quent Rogeron        | <!----> | qrogeronr5@merriam-webster.com  | SA | 76526 | 8/22/2023  | travel |\n| ggerrillr6     | Genevieve Gerrill    | 8/16/1994  | ggerrillr6@xrea.com             | OC | 78326 | 4/30/2022  | sports |\n| ftothacotr7    | Faustine Tothacot    | 12/3/1998  | ftothacotr7@usgs.gov            | NA |  9927 | <!----> | sports |\n| dfordhamr8     | Dean Fordham         | 5/6/1989   | dfordhamr8@google.com.au        | NA | 94828 | <!----> | music  |\n| rleningr9      | Roch Lening          | 9/1/1981   | rleningr9@taobao.com            | OC | 21333 | 2/23/2020  | music  |\n| gbilbeyra      | Grannie Bilbey       | 6/22/1992  | gbilbeyra@wisc.edu              | AS | 77316 | 5/4/2022   | music  |\n| araddenrb      | Anneliese Radden     | <!----> | araddenrb@umn.edu               | NA | 16230 | <!----> | music  |\n| vskirlinrc     | Van Skirlin          | <!----> | vskirlinrc@sphinn.com           | NA | 14500 | 6/21/2021  | music  |\n| efursserd      | Ekaterina Fursse     | 7/13/1994  | efursserd@flickr.com            | AS | 83588 | <!----> | travel |\n| acaldicottre   | Ashlee Caldicott     | 2/2/1996   | acaldicottre@furl.net           | OC | 67530 | 2/15/2022  | music  |\n| fdorgonrf      | Fritz Dorgon         | <!----> | fdorgonrf@homestead.com         | AS | 33272 | <!----> | music  |\n| kklicherg      | Kristine Kliche      | 10/20/1983 | kklicherg@indiatimes.com        | EU |  8487 | <!----> | music  |\n| jbirchallrh    | Jinny Birchall       | 11/3/1987  | jbirchallrh@senate.gov          | AF | 76102 | 3/4/2022   | music  |\n| lnorwellri     | Lelia Norwell        | <!----> | lnorwellri@slate.com            | SA | 51920 | 1/11/2023  | travel |\n| fwegenenrj     | Filippa Wegenen      | 10/25/1994 | fwegenenrj@nbcnews.com          | NA | 68133 | 9/20/2023  | travel |\n| bpierrork      | Bobbie Pierro        | 5/27/1991  | bpierrork@rambler.ru            | NA | 81408 | 6/6/2023   | sports |\n| hransomrl      | Helenka Ransom       | <!----> | hransomrl@qq.com                | EU | 69467 | 7/29/2023  | music  |\n| vmacterrellyrm | Virginie MacTerrelly | 10/8/1994  | vmacterrellyrm@dailymotion.com  | AS |    81 | 9/11/2023  | sports |\n| sschafflerrn   | Sallyann Schaffler   | 12/7/1999  | sschafflerrn@wsj.com            | OC | 89752 | 9/20/2020  | sports |\n| nilyinskiro    | Nanette Ilyinski     | 5/13/1989  | nilyinskiro@123-reg.co.uk       | NA | 47332 | 11/16/2020 | sports |\n| sgeertzrp      | Stephen Geertz       | 9/6/1994   | sgeertzrp@hp.com                | NA | 36511 | 11/19/2022 | music  |\n| cchurchmanrq   | Chrisse Churchman    | 4/23/1998  | cchurchmanrq@qq.com             | NA | 84037 | 2/12/2022  | music  |\n| crembrantrr    | Clementine Rembrant  | 3/15/2001  | crembrantrr@who.int             | NA | 11336 | 3/2/2020   | music  |\n\n",
            "text/latex": "A data.frame: 1318 × 8\n\\begin{tabular}{llllllll}\n username & full\\_name & birthdate & email & continent & followers & last\\_login & interests\\\\\n <chr> & <chr> & <chr> & <chr> & <chr> & <int> & <chr> & <chr>\\\\\n\\hline\n\t ckippen0      & Clevey Kippen     & 5/1/1991   & ckippen0@t-online.de               & NA & 12362 & 5/16/2023  & music \\\\\n\t tgergler1     & Tedi Gergler      & 10/5/1998  & tgergler1@salon.com                & NA & 21360 & 8/20/2020  & sports\\\\\n\t spomfrett2    & Steffie Pomfrett  &            & spomfrett2@imdb.com                & NA & 19530 & 11/19/2022 & sports\\\\\n\t rphettis3     & Ruddy Phettis     & 6/18/1984  & rphettis3@npr.org                  & EU & 80047 & 9/20/2023  & travel\\\\\n\t ngilcriest4   & Nico Gilcriest    & 10/11/1993 & ngilcriest4@dyndns.org             & NA & 33544 &            & music \\\\\n\t fhampson5     & Farrell Hampson   & 11/7/1985  & fhampson5@lulu.com                 & OC & 72161 &            & sports\\\\\n\t ttotman6      & Tamqrah Totman    & 8/7/1986   & ttotman6@elpais.com                & AF & 42669 & 3/10/2023  & music \\\\\n\t bdennes7      & Bonita Dennes     &            & bdennes7@cnet.com                  & NA & 22516 & 2/3/2023   & sports\\\\\n\t kgrigoryev8   & Krishna Grigoryev & 5/25/1990  & kgrigoryev8@quantcast.com          & EU & 93923 & 1/30/2023  & travel\\\\\n\t mbathoe9      & Mallissa Bathoe   &            & mbathoe9@bloomberg.com             & AS & 18554 & 3/5/2022   & travel\\\\\n\t hallensona    & Hayward Allenson  & 3/15/1983  & hallensona@wp.com                  & AF & 81042 &            & travel\\\\\n\t mchittockb    & Myriam Chittock   & 1/26/1989  & mchittockb@uiuc.edu                & AF & 46304 & 8/29/2023  & sports\\\\\n\t mfranzewitchc & Max Franzewitch   & 12/25/1997 & mfranzewitchc@paginegialle.it      & NA &  5640 &            & travel\\\\\n\t aeasbyd       & Alessandra Easby  & 1/5/1991   & aeasbyd@google.ca                  & AF & 16786 & 6/15/2023  & sports\\\\\n\t hschubarte    & Hubert Schubart   & 11/23/1984 & hschubarte@friendfeed.com          & NA & 74336 &            & sports\\\\\n\t dleishmanf    & Dyane Leishman    & 2/12/1990  & dleishmanf@lycos.com               & NA & 85070 & 6/5/2021   & travel\\\\\n\t scoilsg       & Shayla Coils      &            & scoilsg@hhs.gov                    & NA & 79667 & 10/14/2021 & travel\\\\\n\t bkrzysztofh   & Bendick Krzysztof & 10/19/1985 & bkrzysztofh@nationalgeographic.com & NA & 11748 &            & music \\\\\n\t omarusiki     & Otha Marusik      & 12/4/1992  & omarusiki@cdbaby.com               & AF & 93981 & 2/4/2022   & travel\\\\\n\t craglesj      & Constancia Ragles &            & craglesj@e-recht24.de              & NA & 85300 & 9/28/2021  & sports\\\\\n\t sspenclayk    & Scott Spenclay    & 12/7/1989  & sspenclayk@wikispaces.com          & AF & 31745 & 11/29/2022 & sports\\\\\n\t gklinckl      & Georgetta Klinck  & 7/26/1996  & gklinckl@over-blog.com             & SA & 69386 & 9/10/2023  & sports\\\\\n\t rhollowm      & Riccardo Hollow   & 1/18/1980  & rhollowm@dyndns.org                & OC & 73088 & 1/22/2020  & sports\\\\\n\t atrouncen     & Aube Trounce      & 9/5/1984   & atrouncen@shinystat.com            & AS & 51692 &            & music \\\\\n\t jquareo       & Joey Quare        & 11/19/1999 & jquareo@furl.net                   & AF & 68116 &            & sports\\\\\n\t rbellonp      & Rodolph Bellon    & 8/30/2002  & rbellonp@cisco.com                 & AF & 96337 &            & music \\\\\n\t chawesq       & Courtnay Hawes    &            & chawesq@deviantart.com             & AF &   435 & 3/19/2023  & music \\\\\n\t acheshirr     & Ali Cheshir       & 4/19/1998  & acheshirr@phoca.cz                 & AS & 79802 &            & sports\\\\\n\t galdrins      & Gerick Aldrin     & 7/31/1995  & galdrins@ca.gov                    & NA & 96491 & 5/26/2022  & music \\\\\n\t ddimmockt     & Didi Dimmock      & 5/15/1985  & ddimmockt@wired.com                & EU & 81726 & 4/23/2021  & sports\\\\\n\t ⋮ & ⋮ & ⋮ & ⋮ & ⋮ & ⋮ & ⋮ & ⋮\\\\\n\t sargerqy       & Shane Arger          & 2/21/1992  & sargerqy@exblog.jp              & AF & 53022 & 12/7/2021  & music \\\\\n\t jgiorgiuttiqz  & Joy Giorgiutti       & 5/5/1988   & jgiorgiuttiqz@timesonline.co.uk & NA & 26125 & 6/1/2020   & travel\\\\\n\t bgerwoodr0     & Beverlee Gerwood     & 1/29/1980  & bgerwoodr0@fotki.com            & AS & 22633 &            & music \\\\\n\t fheinker1      & Fleurette Heinke     &            & fheinker1@google.fr             & NA & 39891 & 8/17/2020  & travel\\\\\n\t acashellr2     & Aridatha Cashell     &            & acashellr2@mediafire.com        & NA & 84669 & 7/29/2022  & music \\\\\n\t dupstellr3     & Durward Upstell      &            & dupstellr3@buzzfeed.com         & NA & 58154 & 6/8/2020   & sports\\\\\n\t ksturdeyr4     & Krissie Sturdey      & 8/13/1980  & ksturdeyr4@skyrock.com          & SA & 37880 & 4/17/2020  & travel\\\\\n\t qrogeronr5     & Quent Rogeron        &            & qrogeronr5@merriam-webster.com  & SA & 76526 & 8/22/2023  & travel\\\\\n\t ggerrillr6     & Genevieve Gerrill    & 8/16/1994  & ggerrillr6@xrea.com             & OC & 78326 & 4/30/2022  & sports\\\\\n\t ftothacotr7    & Faustine Tothacot    & 12/3/1998  & ftothacotr7@usgs.gov            & NA &  9927 &            & sports\\\\\n\t dfordhamr8     & Dean Fordham         & 5/6/1989   & dfordhamr8@google.com.au        & NA & 94828 &            & music \\\\\n\t rleningr9      & Roch Lening          & 9/1/1981   & rleningr9@taobao.com            & OC & 21333 & 2/23/2020  & music \\\\\n\t gbilbeyra      & Grannie Bilbey       & 6/22/1992  & gbilbeyra@wisc.edu              & AS & 77316 & 5/4/2022   & music \\\\\n\t araddenrb      & Anneliese Radden     &            & araddenrb@umn.edu               & NA & 16230 &            & music \\\\\n\t vskirlinrc     & Van Skirlin          &            & vskirlinrc@sphinn.com           & NA & 14500 & 6/21/2021  & music \\\\\n\t efursserd      & Ekaterina Fursse     & 7/13/1994  & efursserd@flickr.com            & AS & 83588 &            & travel\\\\\n\t acaldicottre   & Ashlee Caldicott     & 2/2/1996   & acaldicottre@furl.net           & OC & 67530 & 2/15/2022  & music \\\\\n\t fdorgonrf      & Fritz Dorgon         &            & fdorgonrf@homestead.com         & AS & 33272 &            & music \\\\\n\t kklicherg      & Kristine Kliche      & 10/20/1983 & kklicherg@indiatimes.com        & EU &  8487 &            & music \\\\\n\t jbirchallrh    & Jinny Birchall       & 11/3/1987  & jbirchallrh@senate.gov          & AF & 76102 & 3/4/2022   & music \\\\\n\t lnorwellri     & Lelia Norwell        &            & lnorwellri@slate.com            & SA & 51920 & 1/11/2023  & travel\\\\\n\t fwegenenrj     & Filippa Wegenen      & 10/25/1994 & fwegenenrj@nbcnews.com          & NA & 68133 & 9/20/2023  & travel\\\\\n\t bpierrork      & Bobbie Pierro        & 5/27/1991  & bpierrork@rambler.ru            & NA & 81408 & 6/6/2023   & sports\\\\\n\t hransomrl      & Helenka Ransom       &            & hransomrl@qq.com                & EU & 69467 & 7/29/2023  & music \\\\\n\t vmacterrellyrm & Virginie MacTerrelly & 10/8/1994  & vmacterrellyrm@dailymotion.com  & AS &    81 & 9/11/2023  & sports\\\\\n\t sschafflerrn   & Sallyann Schaffler   & 12/7/1999  & sschafflerrn@wsj.com            & OC & 89752 & 9/20/2020  & sports\\\\\n\t nilyinskiro    & Nanette Ilyinski     & 5/13/1989  & nilyinskiro@123-reg.co.uk       & NA & 47332 & 11/16/2020 & sports\\\\\n\t sgeertzrp      & Stephen Geertz       & 9/6/1994   & sgeertzrp@hp.com                & NA & 36511 & 11/19/2022 & music \\\\\n\t cchurchmanrq   & Chrisse Churchman    & 4/23/1998  & cchurchmanrq@qq.com             & NA & 84037 & 2/12/2022  & music \\\\\n\t crembrantrr    & Clementine Rembrant  & 3/15/2001  & crembrantrr@who.int             & NA & 11336 & 3/2/2020   & music \\\\\n\\end{tabular}\n",
            "text/plain": [
              "     username       full_name            birthdate \n",
              "1    ckippen0       Clevey Kippen        5/1/1991  \n",
              "2    tgergler1      Tedi Gergler         10/5/1998 \n",
              "3    spomfrett2     Steffie Pomfrett               \n",
              "4    rphettis3      Ruddy Phettis        6/18/1984 \n",
              "5    ngilcriest4    Nico Gilcriest       10/11/1993\n",
              "6    fhampson5      Farrell Hampson      11/7/1985 \n",
              "7    ttotman6       Tamqrah Totman       8/7/1986  \n",
              "8    bdennes7       Bonita Dennes                  \n",
              "9    kgrigoryev8    Krishna Grigoryev    5/25/1990 \n",
              "10   mbathoe9       Mallissa Bathoe                \n",
              "11   hallensona     Hayward Allenson     3/15/1983 \n",
              "12   mchittockb     Myriam Chittock      1/26/1989 \n",
              "13   mfranzewitchc  Max Franzewitch      12/25/1997\n",
              "14   aeasbyd        Alessandra Easby     1/5/1991  \n",
              "15   hschubarte     Hubert Schubart      11/23/1984\n",
              "16   dleishmanf     Dyane Leishman       2/12/1990 \n",
              "17   scoilsg        Shayla Coils                   \n",
              "18   bkrzysztofh    Bendick Krzysztof    10/19/1985\n",
              "19   omarusiki      Otha Marusik         12/4/1992 \n",
              "20   craglesj       Constancia Ragles              \n",
              "21   sspenclayk     Scott Spenclay       12/7/1989 \n",
              "22   gklinckl       Georgetta Klinck     7/26/1996 \n",
              "23   rhollowm       Riccardo Hollow      1/18/1980 \n",
              "24   atrouncen      Aube Trounce         9/5/1984  \n",
              "25   jquareo        Joey Quare           11/19/1999\n",
              "26   rbellonp       Rodolph Bellon       8/30/2002 \n",
              "27   chawesq        Courtnay Hawes                 \n",
              "28   acheshirr      Ali Cheshir          4/19/1998 \n",
              "29   galdrins       Gerick Aldrin        7/31/1995 \n",
              "30   ddimmockt      Didi Dimmock         5/15/1985 \n",
              "⋮    ⋮              ⋮                    ⋮         \n",
              "1289 sargerqy       Shane Arger          2/21/1992 \n",
              "1290 jgiorgiuttiqz  Joy Giorgiutti       5/5/1988  \n",
              "1291 bgerwoodr0     Beverlee Gerwood     1/29/1980 \n",
              "1292 fheinker1      Fleurette Heinke               \n",
              "1293 acashellr2     Aridatha Cashell               \n",
              "1294 dupstellr3     Durward Upstell                \n",
              "1295 ksturdeyr4     Krissie Sturdey      8/13/1980 \n",
              "1296 qrogeronr5     Quent Rogeron                  \n",
              "1297 ggerrillr6     Genevieve Gerrill    8/16/1994 \n",
              "1298 ftothacotr7    Faustine Tothacot    12/3/1998 \n",
              "1299 dfordhamr8     Dean Fordham         5/6/1989  \n",
              "1300 rleningr9      Roch Lening          9/1/1981  \n",
              "1301 gbilbeyra      Grannie Bilbey       6/22/1992 \n",
              "1302 araddenrb      Anneliese Radden               \n",
              "1303 vskirlinrc     Van Skirlin                    \n",
              "1304 efursserd      Ekaterina Fursse     7/13/1994 \n",
              "1305 acaldicottre   Ashlee Caldicott     2/2/1996  \n",
              "1306 fdorgonrf      Fritz Dorgon                   \n",
              "1307 kklicherg      Kristine Kliche      10/20/1983\n",
              "1308 jbirchallrh    Jinny Birchall       11/3/1987 \n",
              "1309 lnorwellri     Lelia Norwell                  \n",
              "1310 fwegenenrj     Filippa Wegenen      10/25/1994\n",
              "1311 bpierrork      Bobbie Pierro        5/27/1991 \n",
              "1312 hransomrl      Helenka Ransom                 \n",
              "1313 vmacterrellyrm Virginie MacTerrelly 10/8/1994 \n",
              "1314 sschafflerrn   Sallyann Schaffler   12/7/1999 \n",
              "1315 nilyinskiro    Nanette Ilyinski     5/13/1989 \n",
              "1316 sgeertzrp      Stephen Geertz       9/6/1994  \n",
              "1317 cchurchmanrq   Chrisse Churchman    4/23/1998 \n",
              "1318 crembrantrr    Clementine Rembrant  3/15/2001 \n",
              "     email                              continent followers last_login\n",
              "1    ckippen0@t-online.de               NA        12362     5/16/2023 \n",
              "2    tgergler1@salon.com                NA        21360     8/20/2020 \n",
              "3    spomfrett2@imdb.com                NA        19530     11/19/2022\n",
              "4    rphettis3@npr.org                  EU        80047     9/20/2023 \n",
              "5    ngilcriest4@dyndns.org             NA        33544               \n",
              "6    fhampson5@lulu.com                 OC        72161               \n",
              "7    ttotman6@elpais.com                AF        42669     3/10/2023 \n",
              "8    bdennes7@cnet.com                  NA        22516     2/3/2023  \n",
              "9    kgrigoryev8@quantcast.com          EU        93923     1/30/2023 \n",
              "10   mbathoe9@bloomberg.com             AS        18554     3/5/2022  \n",
              "11   hallensona@wp.com                  AF        81042               \n",
              "12   mchittockb@uiuc.edu                AF        46304     8/29/2023 \n",
              "13   mfranzewitchc@paginegialle.it      NA         5640               \n",
              "14   aeasbyd@google.ca                  AF        16786     6/15/2023 \n",
              "15   hschubarte@friendfeed.com          NA        74336               \n",
              "16   dleishmanf@lycos.com               NA        85070     6/5/2021  \n",
              "17   scoilsg@hhs.gov                    NA        79667     10/14/2021\n",
              "18   bkrzysztofh@nationalgeographic.com NA        11748               \n",
              "19   omarusiki@cdbaby.com               AF        93981     2/4/2022  \n",
              "20   craglesj@e-recht24.de              NA        85300     9/28/2021 \n",
              "21   sspenclayk@wikispaces.com          AF        31745     11/29/2022\n",
              "22   gklinckl@over-blog.com             SA        69386     9/10/2023 \n",
              "23   rhollowm@dyndns.org                OC        73088     1/22/2020 \n",
              "24   atrouncen@shinystat.com            AS        51692               \n",
              "25   jquareo@furl.net                   AF        68116               \n",
              "26   rbellonp@cisco.com                 AF        96337               \n",
              "27   chawesq@deviantart.com             AF          435     3/19/2023 \n",
              "28   acheshirr@phoca.cz                 AS        79802               \n",
              "29   galdrins@ca.gov                    NA        96491     5/26/2022 \n",
              "30   ddimmockt@wired.com                EU        81726     4/23/2021 \n",
              "⋮    ⋮                                  ⋮         ⋮         ⋮         \n",
              "1289 sargerqy@exblog.jp                 AF        53022     12/7/2021 \n",
              "1290 jgiorgiuttiqz@timesonline.co.uk    NA        26125     6/1/2020  \n",
              "1291 bgerwoodr0@fotki.com               AS        22633               \n",
              "1292 fheinker1@google.fr                NA        39891     8/17/2020 \n",
              "1293 acashellr2@mediafire.com           NA        84669     7/29/2022 \n",
              "1294 dupstellr3@buzzfeed.com            NA        58154     6/8/2020  \n",
              "1295 ksturdeyr4@skyrock.com             SA        37880     4/17/2020 \n",
              "1296 qrogeronr5@merriam-webster.com     SA        76526     8/22/2023 \n",
              "1297 ggerrillr6@xrea.com                OC        78326     4/30/2022 \n",
              "1298 ftothacotr7@usgs.gov               NA         9927               \n",
              "1299 dfordhamr8@google.com.au           NA        94828               \n",
              "1300 rleningr9@taobao.com               OC        21333     2/23/2020 \n",
              "1301 gbilbeyra@wisc.edu                 AS        77316     5/4/2022  \n",
              "1302 araddenrb@umn.edu                  NA        16230               \n",
              "1303 vskirlinrc@sphinn.com              NA        14500     6/21/2021 \n",
              "1304 efursserd@flickr.com               AS        83588               \n",
              "1305 acaldicottre@furl.net              OC        67530     2/15/2022 \n",
              "1306 fdorgonrf@homestead.com            AS        33272               \n",
              "1307 kklicherg@indiatimes.com           EU         8487               \n",
              "1308 jbirchallrh@senate.gov             AF        76102     3/4/2022  \n",
              "1309 lnorwellri@slate.com               SA        51920     1/11/2023 \n",
              "1310 fwegenenrj@nbcnews.com             NA        68133     9/20/2023 \n",
              "1311 bpierrork@rambler.ru               NA        81408     6/6/2023  \n",
              "1312 hransomrl@qq.com                   EU        69467     7/29/2023 \n",
              "1313 vmacterrellyrm@dailymotion.com     AS           81     9/11/2023 \n",
              "1314 sschafflerrn@wsj.com               OC        89752     9/20/2020 \n",
              "1315 nilyinskiro@123-reg.co.uk          NA        47332     11/16/2020\n",
              "1316 sgeertzrp@hp.com                   NA        36511     11/19/2022\n",
              "1317 cchurchmanrq@qq.com                NA        84037     2/12/2022 \n",
              "1318 crembrantrr@who.int                NA        11336     3/2/2020  \n",
              "     interests\n",
              "1    music    \n",
              "2    sports   \n",
              "3    sports   \n",
              "4    travel   \n",
              "5    music    \n",
              "6    sports   \n",
              "7    music    \n",
              "8    sports   \n",
              "9    travel   \n",
              "10   travel   \n",
              "11   travel   \n",
              "12   sports   \n",
              "13   travel   \n",
              "14   sports   \n",
              "15   sports   \n",
              "16   travel   \n",
              "17   travel   \n",
              "18   music    \n",
              "19   travel   \n",
              "20   sports   \n",
              "21   sports   \n",
              "22   sports   \n",
              "23   sports   \n",
              "24   music    \n",
              "25   sports   \n",
              "26   music    \n",
              "27   music    \n",
              "28   sports   \n",
              "29   music    \n",
              "30   sports   \n",
              "⋮    ⋮        \n",
              "1289 music    \n",
              "1290 travel   \n",
              "1291 music    \n",
              "1292 travel   \n",
              "1293 music    \n",
              "1294 sports   \n",
              "1295 travel   \n",
              "1296 travel   \n",
              "1297 sports   \n",
              "1298 sports   \n",
              "1299 music    \n",
              "1300 music    \n",
              "1301 music    \n",
              "1302 music    \n",
              "1303 music    \n",
              "1304 travel   \n",
              "1305 music    \n",
              "1306 music    \n",
              "1307 music    \n",
              "1308 music    \n",
              "1309 travel   \n",
              "1310 travel   \n",
              "1311 sports   \n",
              "1312 music    \n",
              "1313 sports   \n",
              "1314 sports   \n",
              "1315 sports   \n",
              "1316 music    \n",
              "1317 music    \n",
              "1318 music    "
            ]
          },
          "metadata": {}
        }
      ]
    },
    {
      "cell_type": "code",
      "source": [
        "#\n",
        "nrow(df3[duplicated(df3), ])"
      ],
      "metadata": {
        "id": "LwXD1sNulIT3",
        "colab": {
          "base_uri": "https://localhost:8080/",
          "height": 34
        },
        "outputId": "780a6f93-a106-4e65-b1af-fe08dafb7fa8"
      },
      "execution_count": null,
      "outputs": [
        {
          "output_type": "display_data",
          "data": {
            "text/html": [
              "318"
            ],
            "text/markdown": "318",
            "text/latex": "318",
            "text/plain": [
              "[1] 318"
            ]
          },
          "metadata": {}
        }
      ]
    },
    {
      "cell_type": "code",
      "source": [
        "#\n",
        "df4 <- df3[!duplicated(df3), ]\n",
        "df4[df4 == \"\"]<- NA\n",
        "df5 <- df4[complete.cases(df4$birthdate), ]\n",
        "df6 <- df5[complete.cases(df5$last_login), ]"
      ],
      "metadata": {
        "id": "7qa100btlI4Z"
      },
      "execution_count": null,
      "outputs": []
    },
    {
      "cell_type": "code",
      "source": [
        "df6"
      ],
      "metadata": {
        "id": "Q3yz13TekVCf",
        "outputId": "8fc83393-e495-4f45-fcc3-0cc2610ff6db",
        "colab": {
          "base_uri": "https://localhost:8080/",
          "height": 1000
        }
      },
      "execution_count": null,
      "outputs": [
        {
          "output_type": "display_data",
          "data": {
            "text/html": [
              "<table class=\"dataframe\">\n",
              "<caption>A data.frame: 650 × 8</caption>\n",
              "<thead>\n",
              "\t<tr><th></th><th scope=col>username</th><th scope=col>full_name</th><th scope=col>birthdate</th><th scope=col>email</th><th scope=col>continent</th><th scope=col>followers</th><th scope=col>last_login</th><th scope=col>interests</th></tr>\n",
              "\t<tr><th></th><th scope=col>&lt;chr&gt;</th><th scope=col>&lt;chr&gt;</th><th scope=col>&lt;chr&gt;</th><th scope=col>&lt;chr&gt;</th><th scope=col>&lt;chr&gt;</th><th scope=col>&lt;int&gt;</th><th scope=col>&lt;chr&gt;</th><th scope=col>&lt;chr&gt;</th></tr>\n",
              "</thead>\n",
              "<tbody>\n",
              "\t<tr><th scope=row>1</th><td>ckippen0       </td><td>Clevey Kippen      </td><td>5/1/1991  </td><td>ckippen0@t-online.de         </td><td>NA</td><td>12362</td><td>5/16/2023 </td><td>music </td></tr>\n",
              "\t<tr><th scope=row>2</th><td>tgergler1      </td><td>Tedi Gergler       </td><td>10/5/1998 </td><td>tgergler1@salon.com          </td><td>NA</td><td>21360</td><td>8/20/2020 </td><td>sports</td></tr>\n",
              "\t<tr><th scope=row>4</th><td>rphettis3      </td><td>Ruddy Phettis      </td><td>6/18/1984 </td><td>rphettis3@npr.org            </td><td>EU</td><td>80047</td><td>9/20/2023 </td><td>travel</td></tr>\n",
              "\t<tr><th scope=row>7</th><td>ttotman6       </td><td>Tamqrah Totman     </td><td>8/7/1986  </td><td>ttotman6@elpais.com          </td><td>AF</td><td>42669</td><td>3/10/2023 </td><td>music </td></tr>\n",
              "\t<tr><th scope=row>9</th><td>kgrigoryev8    </td><td>Krishna Grigoryev  </td><td>5/25/1990 </td><td>kgrigoryev8@quantcast.com    </td><td>EU</td><td>93923</td><td>1/30/2023 </td><td>travel</td></tr>\n",
              "\t<tr><th scope=row>12</th><td>mchittockb     </td><td>Myriam Chittock    </td><td>1/26/1989 </td><td>mchittockb@uiuc.edu          </td><td>AF</td><td>46304</td><td>8/29/2023 </td><td>sports</td></tr>\n",
              "\t<tr><th scope=row>14</th><td>aeasbyd        </td><td>Alessandra Easby   </td><td>1/5/1991  </td><td>aeasbyd@google.ca            </td><td>AF</td><td>16786</td><td>6/15/2023 </td><td>sports</td></tr>\n",
              "\t<tr><th scope=row>16</th><td>dleishmanf     </td><td>Dyane Leishman     </td><td>2/12/1990 </td><td>dleishmanf@lycos.com         </td><td>NA</td><td>85070</td><td>6/5/2021  </td><td>travel</td></tr>\n",
              "\t<tr><th scope=row>19</th><td>omarusiki      </td><td>Otha Marusik       </td><td>12/4/1992 </td><td>omarusiki@cdbaby.com         </td><td>AF</td><td>93981</td><td>2/4/2022  </td><td>travel</td></tr>\n",
              "\t<tr><th scope=row>21</th><td>sspenclayk     </td><td>Scott Spenclay     </td><td>12/7/1989 </td><td>sspenclayk@wikispaces.com    </td><td>AF</td><td>31745</td><td>11/29/2022</td><td>sports</td></tr>\n",
              "\t<tr><th scope=row>22</th><td>gklinckl       </td><td>Georgetta Klinck   </td><td>7/26/1996 </td><td>gklinckl@over-blog.com       </td><td>SA</td><td>69386</td><td>9/10/2023 </td><td>sports</td></tr>\n",
              "\t<tr><th scope=row>23</th><td>rhollowm       </td><td>Riccardo Hollow    </td><td>1/18/1980 </td><td>rhollowm@dyndns.org          </td><td>OC</td><td>73088</td><td>1/22/2020 </td><td>sports</td></tr>\n",
              "\t<tr><th scope=row>29</th><td>galdrins       </td><td>Gerick Aldrin      </td><td>7/31/1995 </td><td>galdrins@ca.gov              </td><td>NA</td><td>96491</td><td>5/26/2022 </td><td>music </td></tr>\n",
              "\t<tr><th scope=row>30</th><td>ddimmockt      </td><td>Didi Dimmock       </td><td>5/15/1985 </td><td>ddimmockt@wired.com          </td><td>EU</td><td>81726</td><td>4/23/2021 </td><td>sports</td></tr>\n",
              "\t<tr><th scope=row>31</th><td>fpythonu       </td><td>Franz Python       </td><td>4/5/1984  </td><td>fpythonu@fastcompany.com     </td><td>SA</td><td>28388</td><td>7/9/2023  </td><td>music </td></tr>\n",
              "\t<tr><th scope=row>32</th><td>btutingv       </td><td>Brod Tuting        </td><td>11/10/1988</td><td>btutingv@wordpress.org       </td><td>NA</td><td>42044</td><td>8/16/2021 </td><td>music </td></tr>\n",
              "\t<tr><th scope=row>33</th><td>tcosgriffw     </td><td>Tami Cosgriff      </td><td>8/26/1997 </td><td>tcosgriffw@exblog.jp         </td><td>NA</td><td>94463</td><td>6/25/2021 </td><td>music </td></tr>\n",
              "\t<tr><th scope=row>36</th><td>amcclellandz   </td><td>Annabela McClelland</td><td>8/12/1983 </td><td>amcclellandz@soundcloud.com  </td><td>AF</td><td>51483</td><td>5/3/2020  </td><td>sports</td></tr>\n",
              "\t<tr><th scope=row>37</th><td>asearby10      </td><td>Alyson Searby      </td><td>11/27/1997</td><td>asearby10@bravesites.com     </td><td>NA</td><td>10548</td><td>6/7/2022  </td><td>travel</td></tr>\n",
              "\t<tr><th scope=row>38</th><td>kpietzker11    </td><td>Keane Pietzker     </td><td>11/26/1996</td><td>kpietzker11@tumblr.com       </td><td>AS</td><td>96249</td><td>8/7/2023  </td><td>music </td></tr>\n",
              "\t<tr><th scope=row>39</th><td>olandreth12    </td><td>Orsa Landreth      </td><td>1/10/2000 </td><td>olandreth12@oaic.gov.au      </td><td>SA</td><td>21065</td><td>9/2/2020  </td><td>music </td></tr>\n",
              "\t<tr><th scope=row>40</th><td>pscopyn13      </td><td>Pablo Scopyn       </td><td>4/5/1985  </td><td>pscopyn13@creativecommons.org</td><td>NA</td><td>39440</td><td>9/9/2023  </td><td>music </td></tr>\n",
              "\t<tr><th scope=row>41</th><td>clettice14     </td><td>Cosette Lettice    </td><td>12/23/1981</td><td>clettice14@cmu.edu           </td><td>AS</td><td>58637</td><td>12/7/2021 </td><td>travel</td></tr>\n",
              "\t<tr><th scope=row>42</th><td>schamberlayne15</td><td>Shena Chamberlayne </td><td>8/18/1989 </td><td>schamberlayne15@godaddy.com  </td><td>NA</td><td>64567</td><td>12/3/2020 </td><td>music </td></tr>\n",
              "\t<tr><th scope=row>43</th><td>gwand16        </td><td>Gaelan Wand        </td><td>8/13/1995 </td><td>gwand16@ihg.com              </td><td>NA</td><td>16969</td><td>2/2/2021  </td><td>sports</td></tr>\n",
              "\t<tr><th scope=row>44</th><td>lure17         </td><td>Layton Ure         </td><td>6/27/1981 </td><td>lure17@mit.edu               </td><td>NA</td><td>55952</td><td>6/24/2020 </td><td>sports</td></tr>\n",
              "\t<tr><th scope=row>45</th><td>ccressy18      </td><td>Carson Cressy      </td><td>10/20/1995</td><td>ccressy18@ucoz.com           </td><td>NA</td><td>61529</td><td>12/15/2021</td><td>sports</td></tr>\n",
              "\t<tr><th scope=row>48</th><td>bgribbon1b     </td><td>Bennie Gribbon     </td><td>11/12/1984</td><td>bgribbon1b@dailymail.co.uk   </td><td>AS</td><td> 8772</td><td>11/21/2021</td><td>music </td></tr>\n",
              "\t<tr><th scope=row>50</th><td>lherley1d      </td><td>Lorianne Herley    </td><td>11/30/1984</td><td>lherley1d@baidu.com          </td><td>AS</td><td>33535</td><td>8/18/2022 </td><td>travel</td></tr>\n",
              "\t<tr><th scope=row>52</th><td>scleyburn1f    </td><td>Steward Cleyburn   </td><td>11/18/1985</td><td>scleyburn1f@msn.com          </td><td>EU</td><td>69684</td><td>11/6/2022 </td><td>sports</td></tr>\n",
              "\t<tr><th scope=row>⋮</th><td>⋮</td><td>⋮</td><td>⋮</td><td>⋮</td><td>⋮</td><td>⋮</td><td>⋮</td><td>⋮</td></tr>\n",
              "\t<tr><th scope=row>1266</th><td>jmacaskillqb  </td><td>Jinny MacAskill     </td><td>9/20/2002 </td><td>jmacaskillqb@weebly.com        </td><td>OC</td><td>67895</td><td>11/10/2020</td><td>travel</td></tr>\n",
              "\t<tr><th scope=row>1268</th><td>mcornbellqd   </td><td>Maximo Cornbell     </td><td>9/13/1989 </td><td>mcornbellqd@upenn.edu          </td><td>NA</td><td>22534</td><td>9/14/2022 </td><td>music </td></tr>\n",
              "\t<tr><th scope=row>1269</th><td>clabbqe       </td><td>Constantia Labb     </td><td>4/29/1983 </td><td>clabbqe@phpbb.com              </td><td>AS</td><td>19170</td><td>4/17/2020 </td><td>sports</td></tr>\n",
              "\t<tr><th scope=row>1273</th><td>mmatteaqi     </td><td>Maxy Mattea         </td><td>1/14/1991 </td><td>mmatteaqi@mit.edu              </td><td>AS</td><td>58766</td><td>12/16/2021</td><td>travel</td></tr>\n",
              "\t<tr><th scope=row>1274</th><td>gbluneqj      </td><td>Gusta Blune         </td><td>11/25/1997</td><td>gbluneqj@google.nl             </td><td>NA</td><td>98741</td><td>1/20/2023 </td><td>music </td></tr>\n",
              "\t<tr><th scope=row>1275</th><td>nkenningleyqk </td><td>Niall Kenningley    </td><td>7/12/2000 </td><td>nkenningleyqk@vkontakte.ru     </td><td>NA</td><td>70115</td><td>6/26/2022 </td><td>music </td></tr>\n",
              "\t<tr><th scope=row>1277</th><td>hscraceqm     </td><td>Haze Scrace         </td><td>6/11/2001 </td><td>hscraceqm@economist.com        </td><td>AS</td><td>12639</td><td>9/6/2020  </td><td>music </td></tr>\n",
              "\t<tr><th scope=row>1280</th><td>lbyasqp       </td><td>Lothaire Byas       </td><td>1/28/1992 </td><td>lbyasqp@merriam-webster.com    </td><td>SA</td><td>10235</td><td>8/22/2021 </td><td>sports</td></tr>\n",
              "\t<tr><th scope=row>1282</th><td>mgreceqr      </td><td>Molly Grece         </td><td>6/25/1998 </td><td>mgreceqr@deliciousdays.com     </td><td>NA</td><td>75667</td><td>7/25/2023 </td><td>sports</td></tr>\n",
              "\t<tr><th scope=row>1283</th><td>enealeqs      </td><td>Ethelyn Neale       </td><td>1/23/1990 </td><td>enealeqs@spotify.com           </td><td>NA</td><td>19623</td><td>3/29/2022 </td><td>sports</td></tr>\n",
              "\t<tr><th scope=row>1284</th><td>cvogeleinqt   </td><td>Codi Vogelein       </td><td>1/20/1998 </td><td>cvogeleinqt@stanford.edu       </td><td>EU</td><td>47689</td><td>5/6/2023  </td><td>travel</td></tr>\n",
              "\t<tr><th scope=row>1285</th><td>lblinkhornqu  </td><td>Lolita Blinkhorn    </td><td>6/11/1980 </td><td>lblinkhornqu@hud.gov           </td><td>AS</td><td>64080</td><td>9/23/2023 </td><td>sports</td></tr>\n",
              "\t<tr><th scope=row>1286</th><td>hallonbyqv    </td><td>Hatti Allonby       </td><td>8/5/1987  </td><td>hallonbyqv@theatlantic.com     </td><td>NA</td><td>91992</td><td>3/15/2021 </td><td>travel</td></tr>\n",
              "\t<tr><th scope=row>1287</th><td>badinqw       </td><td>Bo Adin             </td><td>4/24/1997 </td><td>badinqw@shareasale.com         </td><td>NA</td><td>82090</td><td>10/26/2020</td><td>sports</td></tr>\n",
              "\t<tr><th scope=row>1289</th><td>sargerqy      </td><td>Shane Arger         </td><td>2/21/1992 </td><td>sargerqy@exblog.jp             </td><td>AF</td><td>53022</td><td>12/7/2021 </td><td>music </td></tr>\n",
              "\t<tr><th scope=row>1290</th><td>jgiorgiuttiqz </td><td>Joy Giorgiutti      </td><td>5/5/1988  </td><td>jgiorgiuttiqz@timesonline.co.uk</td><td>NA</td><td>26125</td><td>6/1/2020  </td><td>travel</td></tr>\n",
              "\t<tr><th scope=row>1295</th><td>ksturdeyr4    </td><td>Krissie Sturdey     </td><td>8/13/1980 </td><td>ksturdeyr4@skyrock.com         </td><td>SA</td><td>37880</td><td>4/17/2020 </td><td>travel</td></tr>\n",
              "\t<tr><th scope=row>1297</th><td>ggerrillr6    </td><td>Genevieve Gerrill   </td><td>8/16/1994 </td><td>ggerrillr6@xrea.com            </td><td>OC</td><td>78326</td><td>4/30/2022 </td><td>sports</td></tr>\n",
              "\t<tr><th scope=row>1300</th><td>rleningr9     </td><td>Roch Lening         </td><td>9/1/1981  </td><td>rleningr9@taobao.com           </td><td>OC</td><td>21333</td><td>2/23/2020 </td><td>music </td></tr>\n",
              "\t<tr><th scope=row>1301</th><td>gbilbeyra     </td><td>Grannie Bilbey      </td><td>6/22/1992 </td><td>gbilbeyra@wisc.edu             </td><td>AS</td><td>77316</td><td>5/4/2022  </td><td>music </td></tr>\n",
              "\t<tr><th scope=row>1305</th><td>acaldicottre  </td><td>Ashlee Caldicott    </td><td>2/2/1996  </td><td>acaldicottre@furl.net          </td><td>OC</td><td>67530</td><td>2/15/2022 </td><td>music </td></tr>\n",
              "\t<tr><th scope=row>1308</th><td>jbirchallrh   </td><td>Jinny Birchall      </td><td>11/3/1987 </td><td>jbirchallrh@senate.gov         </td><td>AF</td><td>76102</td><td>3/4/2022  </td><td>music </td></tr>\n",
              "\t<tr><th scope=row>1310</th><td>fwegenenrj    </td><td>Filippa Wegenen     </td><td>10/25/1994</td><td>fwegenenrj@nbcnews.com         </td><td>NA</td><td>68133</td><td>9/20/2023 </td><td>travel</td></tr>\n",
              "\t<tr><th scope=row>1311</th><td>bpierrork     </td><td>Bobbie Pierro       </td><td>5/27/1991 </td><td>bpierrork@rambler.ru           </td><td>NA</td><td>81408</td><td>6/6/2023  </td><td>sports</td></tr>\n",
              "\t<tr><th scope=row>1313</th><td>vmacterrellyrm</td><td>Virginie MacTerrelly</td><td>10/8/1994 </td><td>vmacterrellyrm@dailymotion.com </td><td>AS</td><td>   81</td><td>9/11/2023 </td><td>sports</td></tr>\n",
              "\t<tr><th scope=row>1314</th><td>sschafflerrn  </td><td>Sallyann Schaffler  </td><td>12/7/1999 </td><td>sschafflerrn@wsj.com           </td><td>OC</td><td>89752</td><td>9/20/2020 </td><td>sports</td></tr>\n",
              "\t<tr><th scope=row>1315</th><td>nilyinskiro   </td><td>Nanette Ilyinski    </td><td>5/13/1989 </td><td>nilyinskiro@123-reg.co.uk      </td><td>NA</td><td>47332</td><td>11/16/2020</td><td>sports</td></tr>\n",
              "\t<tr><th scope=row>1316</th><td>sgeertzrp     </td><td>Stephen Geertz      </td><td>9/6/1994  </td><td>sgeertzrp@hp.com               </td><td>NA</td><td>36511</td><td>11/19/2022</td><td>music </td></tr>\n",
              "\t<tr><th scope=row>1317</th><td>cchurchmanrq  </td><td>Chrisse Churchman   </td><td>4/23/1998 </td><td>cchurchmanrq@qq.com            </td><td>NA</td><td>84037</td><td>2/12/2022 </td><td>music </td></tr>\n",
              "\t<tr><th scope=row>1318</th><td>crembrantrr   </td><td>Clementine Rembrant </td><td>3/15/2001 </td><td>crembrantrr@who.int            </td><td>NA</td><td>11336</td><td>3/2/2020  </td><td>music </td></tr>\n",
              "</tbody>\n",
              "</table>\n"
            ],
            "text/markdown": "\nA data.frame: 650 × 8\n\n| <!--/--> | username &lt;chr&gt; | full_name &lt;chr&gt; | birthdate &lt;chr&gt; | email &lt;chr&gt; | continent &lt;chr&gt; | followers &lt;int&gt; | last_login &lt;chr&gt; | interests &lt;chr&gt; |\n|---|---|---|---|---|---|---|---|---|\n| 1 | ckippen0        | Clevey Kippen       | 5/1/1991   | ckippen0@t-online.de          | NA | 12362 | 5/16/2023  | music  |\n| 2 | tgergler1       | Tedi Gergler        | 10/5/1998  | tgergler1@salon.com           | NA | 21360 | 8/20/2020  | sports |\n| 4 | rphettis3       | Ruddy Phettis       | 6/18/1984  | rphettis3@npr.org             | EU | 80047 | 9/20/2023  | travel |\n| 7 | ttotman6        | Tamqrah Totman      | 8/7/1986   | ttotman6@elpais.com           | AF | 42669 | 3/10/2023  | music  |\n| 9 | kgrigoryev8     | Krishna Grigoryev   | 5/25/1990  | kgrigoryev8@quantcast.com     | EU | 93923 | 1/30/2023  | travel |\n| 12 | mchittockb      | Myriam Chittock     | 1/26/1989  | mchittockb@uiuc.edu           | AF | 46304 | 8/29/2023  | sports |\n| 14 | aeasbyd         | Alessandra Easby    | 1/5/1991   | aeasbyd@google.ca             | AF | 16786 | 6/15/2023  | sports |\n| 16 | dleishmanf      | Dyane Leishman      | 2/12/1990  | dleishmanf@lycos.com          | NA | 85070 | 6/5/2021   | travel |\n| 19 | omarusiki       | Otha Marusik        | 12/4/1992  | omarusiki@cdbaby.com          | AF | 93981 | 2/4/2022   | travel |\n| 21 | sspenclayk      | Scott Spenclay      | 12/7/1989  | sspenclayk@wikispaces.com     | AF | 31745 | 11/29/2022 | sports |\n| 22 | gklinckl        | Georgetta Klinck    | 7/26/1996  | gklinckl@over-blog.com        | SA | 69386 | 9/10/2023  | sports |\n| 23 | rhollowm        | Riccardo Hollow     | 1/18/1980  | rhollowm@dyndns.org           | OC | 73088 | 1/22/2020  | sports |\n| 29 | galdrins        | Gerick Aldrin       | 7/31/1995  | galdrins@ca.gov               | NA | 96491 | 5/26/2022  | music  |\n| 30 | ddimmockt       | Didi Dimmock        | 5/15/1985  | ddimmockt@wired.com           | EU | 81726 | 4/23/2021  | sports |\n| 31 | fpythonu        | Franz Python        | 4/5/1984   | fpythonu@fastcompany.com      | SA | 28388 | 7/9/2023   | music  |\n| 32 | btutingv        | Brod Tuting         | 11/10/1988 | btutingv@wordpress.org        | NA | 42044 | 8/16/2021  | music  |\n| 33 | tcosgriffw      | Tami Cosgriff       | 8/26/1997  | tcosgriffw@exblog.jp          | NA | 94463 | 6/25/2021  | music  |\n| 36 | amcclellandz    | Annabela McClelland | 8/12/1983  | amcclellandz@soundcloud.com   | AF | 51483 | 5/3/2020   | sports |\n| 37 | asearby10       | Alyson Searby       | 11/27/1997 | asearby10@bravesites.com      | NA | 10548 | 6/7/2022   | travel |\n| 38 | kpietzker11     | Keane Pietzker      | 11/26/1996 | kpietzker11@tumblr.com        | AS | 96249 | 8/7/2023   | music  |\n| 39 | olandreth12     | Orsa Landreth       | 1/10/2000  | olandreth12@oaic.gov.au       | SA | 21065 | 9/2/2020   | music  |\n| 40 | pscopyn13       | Pablo Scopyn        | 4/5/1985   | pscopyn13@creativecommons.org | NA | 39440 | 9/9/2023   | music  |\n| 41 | clettice14      | Cosette Lettice     | 12/23/1981 | clettice14@cmu.edu            | AS | 58637 | 12/7/2021  | travel |\n| 42 | schamberlayne15 | Shena Chamberlayne  | 8/18/1989  | schamberlayne15@godaddy.com   | NA | 64567 | 12/3/2020  | music  |\n| 43 | gwand16         | Gaelan Wand         | 8/13/1995  | gwand16@ihg.com               | NA | 16969 | 2/2/2021   | sports |\n| 44 | lure17          | Layton Ure          | 6/27/1981  | lure17@mit.edu                | NA | 55952 | 6/24/2020  | sports |\n| 45 | ccressy18       | Carson Cressy       | 10/20/1995 | ccressy18@ucoz.com            | NA | 61529 | 12/15/2021 | sports |\n| 48 | bgribbon1b      | Bennie Gribbon      | 11/12/1984 | bgribbon1b@dailymail.co.uk    | AS |  8772 | 11/21/2021 | music  |\n| 50 | lherley1d       | Lorianne Herley     | 11/30/1984 | lherley1d@baidu.com           | AS | 33535 | 8/18/2022  | travel |\n| 52 | scleyburn1f     | Steward Cleyburn    | 11/18/1985 | scleyburn1f@msn.com           | EU | 69684 | 11/6/2022  | sports |\n| ⋮ | ⋮ | ⋮ | ⋮ | ⋮ | ⋮ | ⋮ | ⋮ | ⋮ |\n| 1266 | jmacaskillqb   | Jinny MacAskill      | 9/20/2002  | jmacaskillqb@weebly.com         | OC | 67895 | 11/10/2020 | travel |\n| 1268 | mcornbellqd    | Maximo Cornbell      | 9/13/1989  | mcornbellqd@upenn.edu           | NA | 22534 | 9/14/2022  | music  |\n| 1269 | clabbqe        | Constantia Labb      | 4/29/1983  | clabbqe@phpbb.com               | AS | 19170 | 4/17/2020  | sports |\n| 1273 | mmatteaqi      | Maxy Mattea          | 1/14/1991  | mmatteaqi@mit.edu               | AS | 58766 | 12/16/2021 | travel |\n| 1274 | gbluneqj       | Gusta Blune          | 11/25/1997 | gbluneqj@google.nl              | NA | 98741 | 1/20/2023  | music  |\n| 1275 | nkenningleyqk  | Niall Kenningley     | 7/12/2000  | nkenningleyqk@vkontakte.ru      | NA | 70115 | 6/26/2022  | music  |\n| 1277 | hscraceqm      | Haze Scrace          | 6/11/2001  | hscraceqm@economist.com         | AS | 12639 | 9/6/2020   | music  |\n| 1280 | lbyasqp        | Lothaire Byas        | 1/28/1992  | lbyasqp@merriam-webster.com     | SA | 10235 | 8/22/2021  | sports |\n| 1282 | mgreceqr       | Molly Grece          | 6/25/1998  | mgreceqr@deliciousdays.com      | NA | 75667 | 7/25/2023  | sports |\n| 1283 | enealeqs       | Ethelyn Neale        | 1/23/1990  | enealeqs@spotify.com            | NA | 19623 | 3/29/2022  | sports |\n| 1284 | cvogeleinqt    | Codi Vogelein        | 1/20/1998  | cvogeleinqt@stanford.edu        | EU | 47689 | 5/6/2023   | travel |\n| 1285 | lblinkhornqu   | Lolita Blinkhorn     | 6/11/1980  | lblinkhornqu@hud.gov            | AS | 64080 | 9/23/2023  | sports |\n| 1286 | hallonbyqv     | Hatti Allonby        | 8/5/1987   | hallonbyqv@theatlantic.com      | NA | 91992 | 3/15/2021  | travel |\n| 1287 | badinqw        | Bo Adin              | 4/24/1997  | badinqw@shareasale.com          | NA | 82090 | 10/26/2020 | sports |\n| 1289 | sargerqy       | Shane Arger          | 2/21/1992  | sargerqy@exblog.jp              | AF | 53022 | 12/7/2021  | music  |\n| 1290 | jgiorgiuttiqz  | Joy Giorgiutti       | 5/5/1988   | jgiorgiuttiqz@timesonline.co.uk | NA | 26125 | 6/1/2020   | travel |\n| 1295 | ksturdeyr4     | Krissie Sturdey      | 8/13/1980  | ksturdeyr4@skyrock.com          | SA | 37880 | 4/17/2020  | travel |\n| 1297 | ggerrillr6     | Genevieve Gerrill    | 8/16/1994  | ggerrillr6@xrea.com             | OC | 78326 | 4/30/2022  | sports |\n| 1300 | rleningr9      | Roch Lening          | 9/1/1981   | rleningr9@taobao.com            | OC | 21333 | 2/23/2020  | music  |\n| 1301 | gbilbeyra      | Grannie Bilbey       | 6/22/1992  | gbilbeyra@wisc.edu              | AS | 77316 | 5/4/2022   | music  |\n| 1305 | acaldicottre   | Ashlee Caldicott     | 2/2/1996   | acaldicottre@furl.net           | OC | 67530 | 2/15/2022  | music  |\n| 1308 | jbirchallrh    | Jinny Birchall       | 11/3/1987  | jbirchallrh@senate.gov          | AF | 76102 | 3/4/2022   | music  |\n| 1310 | fwegenenrj     | Filippa Wegenen      | 10/25/1994 | fwegenenrj@nbcnews.com          | NA | 68133 | 9/20/2023  | travel |\n| 1311 | bpierrork      | Bobbie Pierro        | 5/27/1991  | bpierrork@rambler.ru            | NA | 81408 | 6/6/2023   | sports |\n| 1313 | vmacterrellyrm | Virginie MacTerrelly | 10/8/1994  | vmacterrellyrm@dailymotion.com  | AS |    81 | 9/11/2023  | sports |\n| 1314 | sschafflerrn   | Sallyann Schaffler   | 12/7/1999  | sschafflerrn@wsj.com            | OC | 89752 | 9/20/2020  | sports |\n| 1315 | nilyinskiro    | Nanette Ilyinski     | 5/13/1989  | nilyinskiro@123-reg.co.uk       | NA | 47332 | 11/16/2020 | sports |\n| 1316 | sgeertzrp      | Stephen Geertz       | 9/6/1994   | sgeertzrp@hp.com                | NA | 36511 | 11/19/2022 | music  |\n| 1317 | cchurchmanrq   | Chrisse Churchman    | 4/23/1998  | cchurchmanrq@qq.com             | NA | 84037 | 2/12/2022  | music  |\n| 1318 | crembrantrr    | Clementine Rembrant  | 3/15/2001  | crembrantrr@who.int             | NA | 11336 | 3/2/2020   | music  |\n\n",
            "text/latex": "A data.frame: 650 × 8\n\\begin{tabular}{r|llllllll}\n  & username & full\\_name & birthdate & email & continent & followers & last\\_login & interests\\\\\n  & <chr> & <chr> & <chr> & <chr> & <chr> & <int> & <chr> & <chr>\\\\\n\\hline\n\t1 & ckippen0        & Clevey Kippen       & 5/1/1991   & ckippen0@t-online.de          & NA & 12362 & 5/16/2023  & music \\\\\n\t2 & tgergler1       & Tedi Gergler        & 10/5/1998  & tgergler1@salon.com           & NA & 21360 & 8/20/2020  & sports\\\\\n\t4 & rphettis3       & Ruddy Phettis       & 6/18/1984  & rphettis3@npr.org             & EU & 80047 & 9/20/2023  & travel\\\\\n\t7 & ttotman6        & Tamqrah Totman      & 8/7/1986   & ttotman6@elpais.com           & AF & 42669 & 3/10/2023  & music \\\\\n\t9 & kgrigoryev8     & Krishna Grigoryev   & 5/25/1990  & kgrigoryev8@quantcast.com     & EU & 93923 & 1/30/2023  & travel\\\\\n\t12 & mchittockb      & Myriam Chittock     & 1/26/1989  & mchittockb@uiuc.edu           & AF & 46304 & 8/29/2023  & sports\\\\\n\t14 & aeasbyd         & Alessandra Easby    & 1/5/1991   & aeasbyd@google.ca             & AF & 16786 & 6/15/2023  & sports\\\\\n\t16 & dleishmanf      & Dyane Leishman      & 2/12/1990  & dleishmanf@lycos.com          & NA & 85070 & 6/5/2021   & travel\\\\\n\t19 & omarusiki       & Otha Marusik        & 12/4/1992  & omarusiki@cdbaby.com          & AF & 93981 & 2/4/2022   & travel\\\\\n\t21 & sspenclayk      & Scott Spenclay      & 12/7/1989  & sspenclayk@wikispaces.com     & AF & 31745 & 11/29/2022 & sports\\\\\n\t22 & gklinckl        & Georgetta Klinck    & 7/26/1996  & gklinckl@over-blog.com        & SA & 69386 & 9/10/2023  & sports\\\\\n\t23 & rhollowm        & Riccardo Hollow     & 1/18/1980  & rhollowm@dyndns.org           & OC & 73088 & 1/22/2020  & sports\\\\\n\t29 & galdrins        & Gerick Aldrin       & 7/31/1995  & galdrins@ca.gov               & NA & 96491 & 5/26/2022  & music \\\\\n\t30 & ddimmockt       & Didi Dimmock        & 5/15/1985  & ddimmockt@wired.com           & EU & 81726 & 4/23/2021  & sports\\\\\n\t31 & fpythonu        & Franz Python        & 4/5/1984   & fpythonu@fastcompany.com      & SA & 28388 & 7/9/2023   & music \\\\\n\t32 & btutingv        & Brod Tuting         & 11/10/1988 & btutingv@wordpress.org        & NA & 42044 & 8/16/2021  & music \\\\\n\t33 & tcosgriffw      & Tami Cosgriff       & 8/26/1997  & tcosgriffw@exblog.jp          & NA & 94463 & 6/25/2021  & music \\\\\n\t36 & amcclellandz    & Annabela McClelland & 8/12/1983  & amcclellandz@soundcloud.com   & AF & 51483 & 5/3/2020   & sports\\\\\n\t37 & asearby10       & Alyson Searby       & 11/27/1997 & asearby10@bravesites.com      & NA & 10548 & 6/7/2022   & travel\\\\\n\t38 & kpietzker11     & Keane Pietzker      & 11/26/1996 & kpietzker11@tumblr.com        & AS & 96249 & 8/7/2023   & music \\\\\n\t39 & olandreth12     & Orsa Landreth       & 1/10/2000  & olandreth12@oaic.gov.au       & SA & 21065 & 9/2/2020   & music \\\\\n\t40 & pscopyn13       & Pablo Scopyn        & 4/5/1985   & pscopyn13@creativecommons.org & NA & 39440 & 9/9/2023   & music \\\\\n\t41 & clettice14      & Cosette Lettice     & 12/23/1981 & clettice14@cmu.edu            & AS & 58637 & 12/7/2021  & travel\\\\\n\t42 & schamberlayne15 & Shena Chamberlayne  & 8/18/1989  & schamberlayne15@godaddy.com   & NA & 64567 & 12/3/2020  & music \\\\\n\t43 & gwand16         & Gaelan Wand         & 8/13/1995  & gwand16@ihg.com               & NA & 16969 & 2/2/2021   & sports\\\\\n\t44 & lure17          & Layton Ure          & 6/27/1981  & lure17@mit.edu                & NA & 55952 & 6/24/2020  & sports\\\\\n\t45 & ccressy18       & Carson Cressy       & 10/20/1995 & ccressy18@ucoz.com            & NA & 61529 & 12/15/2021 & sports\\\\\n\t48 & bgribbon1b      & Bennie Gribbon      & 11/12/1984 & bgribbon1b@dailymail.co.uk    & AS &  8772 & 11/21/2021 & music \\\\\n\t50 & lherley1d       & Lorianne Herley     & 11/30/1984 & lherley1d@baidu.com           & AS & 33535 & 8/18/2022  & travel\\\\\n\t52 & scleyburn1f     & Steward Cleyburn    & 11/18/1985 & scleyburn1f@msn.com           & EU & 69684 & 11/6/2022  & sports\\\\\n\t⋮ & ⋮ & ⋮ & ⋮ & ⋮ & ⋮ & ⋮ & ⋮ & ⋮\\\\\n\t1266 & jmacaskillqb   & Jinny MacAskill      & 9/20/2002  & jmacaskillqb@weebly.com         & OC & 67895 & 11/10/2020 & travel\\\\\n\t1268 & mcornbellqd    & Maximo Cornbell      & 9/13/1989  & mcornbellqd@upenn.edu           & NA & 22534 & 9/14/2022  & music \\\\\n\t1269 & clabbqe        & Constantia Labb      & 4/29/1983  & clabbqe@phpbb.com               & AS & 19170 & 4/17/2020  & sports\\\\\n\t1273 & mmatteaqi      & Maxy Mattea          & 1/14/1991  & mmatteaqi@mit.edu               & AS & 58766 & 12/16/2021 & travel\\\\\n\t1274 & gbluneqj       & Gusta Blune          & 11/25/1997 & gbluneqj@google.nl              & NA & 98741 & 1/20/2023  & music \\\\\n\t1275 & nkenningleyqk  & Niall Kenningley     & 7/12/2000  & nkenningleyqk@vkontakte.ru      & NA & 70115 & 6/26/2022  & music \\\\\n\t1277 & hscraceqm      & Haze Scrace          & 6/11/2001  & hscraceqm@economist.com         & AS & 12639 & 9/6/2020   & music \\\\\n\t1280 & lbyasqp        & Lothaire Byas        & 1/28/1992  & lbyasqp@merriam-webster.com     & SA & 10235 & 8/22/2021  & sports\\\\\n\t1282 & mgreceqr       & Molly Grece          & 6/25/1998  & mgreceqr@deliciousdays.com      & NA & 75667 & 7/25/2023  & sports\\\\\n\t1283 & enealeqs       & Ethelyn Neale        & 1/23/1990  & enealeqs@spotify.com            & NA & 19623 & 3/29/2022  & sports\\\\\n\t1284 & cvogeleinqt    & Codi Vogelein        & 1/20/1998  & cvogeleinqt@stanford.edu        & EU & 47689 & 5/6/2023   & travel\\\\\n\t1285 & lblinkhornqu   & Lolita Blinkhorn     & 6/11/1980  & lblinkhornqu@hud.gov            & AS & 64080 & 9/23/2023  & sports\\\\\n\t1286 & hallonbyqv     & Hatti Allonby        & 8/5/1987   & hallonbyqv@theatlantic.com      & NA & 91992 & 3/15/2021  & travel\\\\\n\t1287 & badinqw        & Bo Adin              & 4/24/1997  & badinqw@shareasale.com          & NA & 82090 & 10/26/2020 & sports\\\\\n\t1289 & sargerqy       & Shane Arger          & 2/21/1992  & sargerqy@exblog.jp              & AF & 53022 & 12/7/2021  & music \\\\\n\t1290 & jgiorgiuttiqz  & Joy Giorgiutti       & 5/5/1988   & jgiorgiuttiqz@timesonline.co.uk & NA & 26125 & 6/1/2020   & travel\\\\\n\t1295 & ksturdeyr4     & Krissie Sturdey      & 8/13/1980  & ksturdeyr4@skyrock.com          & SA & 37880 & 4/17/2020  & travel\\\\\n\t1297 & ggerrillr6     & Genevieve Gerrill    & 8/16/1994  & ggerrillr6@xrea.com             & OC & 78326 & 4/30/2022  & sports\\\\\n\t1300 & rleningr9      & Roch Lening          & 9/1/1981   & rleningr9@taobao.com            & OC & 21333 & 2/23/2020  & music \\\\\n\t1301 & gbilbeyra      & Grannie Bilbey       & 6/22/1992  & gbilbeyra@wisc.edu              & AS & 77316 & 5/4/2022   & music \\\\\n\t1305 & acaldicottre   & Ashlee Caldicott     & 2/2/1996   & acaldicottre@furl.net           & OC & 67530 & 2/15/2022  & music \\\\\n\t1308 & jbirchallrh    & Jinny Birchall       & 11/3/1987  & jbirchallrh@senate.gov          & AF & 76102 & 3/4/2022   & music \\\\\n\t1310 & fwegenenrj     & Filippa Wegenen      & 10/25/1994 & fwegenenrj@nbcnews.com          & NA & 68133 & 9/20/2023  & travel\\\\\n\t1311 & bpierrork      & Bobbie Pierro        & 5/27/1991  & bpierrork@rambler.ru            & NA & 81408 & 6/6/2023   & sports\\\\\n\t1313 & vmacterrellyrm & Virginie MacTerrelly & 10/8/1994  & vmacterrellyrm@dailymotion.com  & AS &    81 & 9/11/2023  & sports\\\\\n\t1314 & sschafflerrn   & Sallyann Schaffler   & 12/7/1999  & sschafflerrn@wsj.com            & OC & 89752 & 9/20/2020  & sports\\\\\n\t1315 & nilyinskiro    & Nanette Ilyinski     & 5/13/1989  & nilyinskiro@123-reg.co.uk       & NA & 47332 & 11/16/2020 & sports\\\\\n\t1316 & sgeertzrp      & Stephen Geertz       & 9/6/1994   & sgeertzrp@hp.com                & NA & 36511 & 11/19/2022 & music \\\\\n\t1317 & cchurchmanrq   & Chrisse Churchman    & 4/23/1998  & cchurchmanrq@qq.com             & NA & 84037 & 2/12/2022  & music \\\\\n\t1318 & crembrantrr    & Clementine Rembrant  & 3/15/2001  & crembrantrr@who.int             & NA & 11336 & 3/2/2020   & music \\\\\n\\end{tabular}\n",
            "text/plain": [
              "     username        full_name            birthdate \n",
              "1    ckippen0        Clevey Kippen        5/1/1991  \n",
              "2    tgergler1       Tedi Gergler         10/5/1998 \n",
              "4    rphettis3       Ruddy Phettis        6/18/1984 \n",
              "7    ttotman6        Tamqrah Totman       8/7/1986  \n",
              "9    kgrigoryev8     Krishna Grigoryev    5/25/1990 \n",
              "12   mchittockb      Myriam Chittock      1/26/1989 \n",
              "14   aeasbyd         Alessandra Easby     1/5/1991  \n",
              "16   dleishmanf      Dyane Leishman       2/12/1990 \n",
              "19   omarusiki       Otha Marusik         12/4/1992 \n",
              "21   sspenclayk      Scott Spenclay       12/7/1989 \n",
              "22   gklinckl        Georgetta Klinck     7/26/1996 \n",
              "23   rhollowm        Riccardo Hollow      1/18/1980 \n",
              "29   galdrins        Gerick Aldrin        7/31/1995 \n",
              "30   ddimmockt       Didi Dimmock         5/15/1985 \n",
              "31   fpythonu        Franz Python         4/5/1984  \n",
              "32   btutingv        Brod Tuting          11/10/1988\n",
              "33   tcosgriffw      Tami Cosgriff        8/26/1997 \n",
              "36   amcclellandz    Annabela McClelland  8/12/1983 \n",
              "37   asearby10       Alyson Searby        11/27/1997\n",
              "38   kpietzker11     Keane Pietzker       11/26/1996\n",
              "39   olandreth12     Orsa Landreth        1/10/2000 \n",
              "40   pscopyn13       Pablo Scopyn         4/5/1985  \n",
              "41   clettice14      Cosette Lettice      12/23/1981\n",
              "42   schamberlayne15 Shena Chamberlayne   8/18/1989 \n",
              "43   gwand16         Gaelan Wand          8/13/1995 \n",
              "44   lure17          Layton Ure           6/27/1981 \n",
              "45   ccressy18       Carson Cressy        10/20/1995\n",
              "48   bgribbon1b      Bennie Gribbon       11/12/1984\n",
              "50   lherley1d       Lorianne Herley      11/30/1984\n",
              "52   scleyburn1f     Steward Cleyburn     11/18/1985\n",
              "⋮    ⋮               ⋮                    ⋮         \n",
              "1266 jmacaskillqb    Jinny MacAskill      9/20/2002 \n",
              "1268 mcornbellqd     Maximo Cornbell      9/13/1989 \n",
              "1269 clabbqe         Constantia Labb      4/29/1983 \n",
              "1273 mmatteaqi       Maxy Mattea          1/14/1991 \n",
              "1274 gbluneqj        Gusta Blune          11/25/1997\n",
              "1275 nkenningleyqk   Niall Kenningley     7/12/2000 \n",
              "1277 hscraceqm       Haze Scrace          6/11/2001 \n",
              "1280 lbyasqp         Lothaire Byas        1/28/1992 \n",
              "1282 mgreceqr        Molly Grece          6/25/1998 \n",
              "1283 enealeqs        Ethelyn Neale        1/23/1990 \n",
              "1284 cvogeleinqt     Codi Vogelein        1/20/1998 \n",
              "1285 lblinkhornqu    Lolita Blinkhorn     6/11/1980 \n",
              "1286 hallonbyqv      Hatti Allonby        8/5/1987  \n",
              "1287 badinqw         Bo Adin              4/24/1997 \n",
              "1289 sargerqy        Shane Arger          2/21/1992 \n",
              "1290 jgiorgiuttiqz   Joy Giorgiutti       5/5/1988  \n",
              "1295 ksturdeyr4      Krissie Sturdey      8/13/1980 \n",
              "1297 ggerrillr6      Genevieve Gerrill    8/16/1994 \n",
              "1300 rleningr9       Roch Lening          9/1/1981  \n",
              "1301 gbilbeyra       Grannie Bilbey       6/22/1992 \n",
              "1305 acaldicottre    Ashlee Caldicott     2/2/1996  \n",
              "1308 jbirchallrh     Jinny Birchall       11/3/1987 \n",
              "1310 fwegenenrj      Filippa Wegenen      10/25/1994\n",
              "1311 bpierrork       Bobbie Pierro        5/27/1991 \n",
              "1313 vmacterrellyrm  Virginie MacTerrelly 10/8/1994 \n",
              "1314 sschafflerrn    Sallyann Schaffler   12/7/1999 \n",
              "1315 nilyinskiro     Nanette Ilyinski     5/13/1989 \n",
              "1316 sgeertzrp       Stephen Geertz       9/6/1994  \n",
              "1317 cchurchmanrq    Chrisse Churchman    4/23/1998 \n",
              "1318 crembrantrr     Clementine Rembrant  3/15/2001 \n",
              "     email                           continent followers last_login interests\n",
              "1    ckippen0@t-online.de            NA        12362     5/16/2023  music    \n",
              "2    tgergler1@salon.com             NA        21360     8/20/2020  sports   \n",
              "4    rphettis3@npr.org               EU        80047     9/20/2023  travel   \n",
              "7    ttotman6@elpais.com             AF        42669     3/10/2023  music    \n",
              "9    kgrigoryev8@quantcast.com       EU        93923     1/30/2023  travel   \n",
              "12   mchittockb@uiuc.edu             AF        46304     8/29/2023  sports   \n",
              "14   aeasbyd@google.ca               AF        16786     6/15/2023  sports   \n",
              "16   dleishmanf@lycos.com            NA        85070     6/5/2021   travel   \n",
              "19   omarusiki@cdbaby.com            AF        93981     2/4/2022   travel   \n",
              "21   sspenclayk@wikispaces.com       AF        31745     11/29/2022 sports   \n",
              "22   gklinckl@over-blog.com          SA        69386     9/10/2023  sports   \n",
              "23   rhollowm@dyndns.org             OC        73088     1/22/2020  sports   \n",
              "29   galdrins@ca.gov                 NA        96491     5/26/2022  music    \n",
              "30   ddimmockt@wired.com             EU        81726     4/23/2021  sports   \n",
              "31   fpythonu@fastcompany.com        SA        28388     7/9/2023   music    \n",
              "32   btutingv@wordpress.org          NA        42044     8/16/2021  music    \n",
              "33   tcosgriffw@exblog.jp            NA        94463     6/25/2021  music    \n",
              "36   amcclellandz@soundcloud.com     AF        51483     5/3/2020   sports   \n",
              "37   asearby10@bravesites.com        NA        10548     6/7/2022   travel   \n",
              "38   kpietzker11@tumblr.com          AS        96249     8/7/2023   music    \n",
              "39   olandreth12@oaic.gov.au         SA        21065     9/2/2020   music    \n",
              "40   pscopyn13@creativecommons.org   NA        39440     9/9/2023   music    \n",
              "41   clettice14@cmu.edu              AS        58637     12/7/2021  travel   \n",
              "42   schamberlayne15@godaddy.com     NA        64567     12/3/2020  music    \n",
              "43   gwand16@ihg.com                 NA        16969     2/2/2021   sports   \n",
              "44   lure17@mit.edu                  NA        55952     6/24/2020  sports   \n",
              "45   ccressy18@ucoz.com              NA        61529     12/15/2021 sports   \n",
              "48   bgribbon1b@dailymail.co.uk      AS         8772     11/21/2021 music    \n",
              "50   lherley1d@baidu.com             AS        33535     8/18/2022  travel   \n",
              "52   scleyburn1f@msn.com             EU        69684     11/6/2022  sports   \n",
              "⋮    ⋮                               ⋮         ⋮         ⋮          ⋮        \n",
              "1266 jmacaskillqb@weebly.com         OC        67895     11/10/2020 travel   \n",
              "1268 mcornbellqd@upenn.edu           NA        22534     9/14/2022  music    \n",
              "1269 clabbqe@phpbb.com               AS        19170     4/17/2020  sports   \n",
              "1273 mmatteaqi@mit.edu               AS        58766     12/16/2021 travel   \n",
              "1274 gbluneqj@google.nl              NA        98741     1/20/2023  music    \n",
              "1275 nkenningleyqk@vkontakte.ru      NA        70115     6/26/2022  music    \n",
              "1277 hscraceqm@economist.com         AS        12639     9/6/2020   music    \n",
              "1280 lbyasqp@merriam-webster.com     SA        10235     8/22/2021  sports   \n",
              "1282 mgreceqr@deliciousdays.com      NA        75667     7/25/2023  sports   \n",
              "1283 enealeqs@spotify.com            NA        19623     3/29/2022  sports   \n",
              "1284 cvogeleinqt@stanford.edu        EU        47689     5/6/2023   travel   \n",
              "1285 lblinkhornqu@hud.gov            AS        64080     9/23/2023  sports   \n",
              "1286 hallonbyqv@theatlantic.com      NA        91992     3/15/2021  travel   \n",
              "1287 badinqw@shareasale.com          NA        82090     10/26/2020 sports   \n",
              "1289 sargerqy@exblog.jp              AF        53022     12/7/2021  music    \n",
              "1290 jgiorgiuttiqz@timesonline.co.uk NA        26125     6/1/2020   travel   \n",
              "1295 ksturdeyr4@skyrock.com          SA        37880     4/17/2020  travel   \n",
              "1297 ggerrillr6@xrea.com             OC        78326     4/30/2022  sports   \n",
              "1300 rleningr9@taobao.com            OC        21333     2/23/2020  music    \n",
              "1301 gbilbeyra@wisc.edu              AS        77316     5/4/2022   music    \n",
              "1305 acaldicottre@furl.net           OC        67530     2/15/2022  music    \n",
              "1308 jbirchallrh@senate.gov          AF        76102     3/4/2022   music    \n",
              "1310 fwegenenrj@nbcnews.com          NA        68133     9/20/2023  travel   \n",
              "1311 bpierrork@rambler.ru            NA        81408     6/6/2023   sports   \n",
              "1313 vmacterrellyrm@dailymotion.com  AS           81     9/11/2023  sports   \n",
              "1314 sschafflerrn@wsj.com            OC        89752     9/20/2020  sports   \n",
              "1315 nilyinskiro@123-reg.co.uk       NA        47332     11/16/2020 sports   \n",
              "1316 sgeertzrp@hp.com                NA        36511     11/19/2022 music    \n",
              "1317 cchurchmanrq@qq.com             NA        84037     2/12/2022  music    \n",
              "1318 crembrantrr@who.int             NA        11336     3/2/2020   music    "
            ]
          },
          "metadata": {}
        }
      ]
    },
    {
      "cell_type": "markdown",
      "source": [
        "For this question, since tere were blank values and you can only remove values that have NA, I decided to impute NA into those blanks spaces and remove the spaces from there."
      ],
      "metadata": {
        "id": "7Ea_Qnar6STH"
      }
    }
  ]
}