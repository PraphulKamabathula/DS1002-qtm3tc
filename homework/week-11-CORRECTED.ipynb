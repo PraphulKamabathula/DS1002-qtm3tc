{
  "nbformat": 4,
  "nbformat_minor": 0,
  "metadata": {
    "colab": {
      "provenance": [],
      "include_colab_link": true
    },
    "kernelspec": {
      "name": "python3",
      "display_name": "Python 3"
    },
    "language_info": {
      "name": "python"
    }
  },
  "cells": [
    {
      "cell_type": "markdown",
      "metadata": {
        "id": "view-in-github",
        "colab_type": "text"
      },
      "source": [
        "<a href=\"https://colab.research.google.com/github/PraphulKamabathula/DS1002-qtm3tc/blob/main/homework/week-11-CORRECTED.ipynb\" target=\"_parent\"><img src=\"https://colab.research.google.com/assets/colab-badge.svg\" alt=\"Open In Colab\"/></a>"
      ]
    },
    {
      "cell_type": "markdown",
      "source": [
        "# Homework - Error Handling & Recursion\n",
        "\n",
        "Complete the cells below. Pay close attention to all directions given.\n",
        "\n",
        "## Error Handling (3 pts)\n",
        "\n",
        "```\n",
        "def throw_me_an_error():\n",
        "  val1 = 14\n",
        "  val2 = 0\n",
        "  return val1 / val2\n",
        "\n",
        "throw_me_an_error()\n",
        "```\n",
        "\n",
        "The function above is designed to deliberately throw an error.\n",
        "\n",
        "Create a new version of the function but add `try` and `except` statements correctly. Your exception should print out the type of error this function created. There are a couple of different ways you could do this.\n"
      ],
      "metadata": {
        "id": "v14Xtd9oiTGF"
      }
    },
    {
      "cell_type": "code",
      "execution_count": 19,
      "metadata": {
        "id": "-dfq0Vo_iSi7"
      },
      "outputs": [],
      "source": [
        "# answer goes here.\n",
        "\n",
        "def throw_me_an_error():\n",
        "  try:\n",
        "    val1/val2\n",
        "  except:\n",
        "    print('Dividing by 0 Error')"
      ]
    },
    {
      "cell_type": "code",
      "source": [
        "val1 = 14\n",
        "val2 = 0\n",
        "\n",
        "throw_me_an_error()"
      ],
      "metadata": {
        "id": "6Bje1Lo3qzCr",
        "outputId": "ef9c3420-31d1-4c91-a2b5-559a9d35de81",
        "colab": {
          "base_uri": "https://localhost:8080/"
        }
      },
      "execution_count": 21,
      "outputs": [
        {
          "output_type": "stream",
          "name": "stdout",
          "text": [
            "Dividing by 0 Error\n"
          ]
        }
      ]
    },
    {
      "cell_type": "markdown",
      "source": [
        "What I messed up was my logic had a condition where the logic was based on an operation when I should try the operation and set my errorhandling to be more of a basket that collects inconsistencies in the values"
      ],
      "metadata": {
        "id": "gEzB1ihWNhoC"
      }
    },
    {
      "cell_type": "markdown",
      "source": [
        "## Error Handling (4 pts)\n",
        "\n",
        "Extend the class below to include some error handling. Assume the remote resource is offline for a moment: How would you give a message to the user indicating what has gone wrong? (Hint: one way you can test this is by deliberately misspelling the URL for the remote resource.)\n",
        "\n",
        "Also, include error handling logic so that execution of the class method `guid()` always returns a line \"Your request has been completed\" along with the guid it created.\n",
        "\n",
        "```\n",
        "import requests\n",
        "import json\n",
        "import sys\n",
        "\n",
        "class Id:\n",
        "\n",
        "  def guid():\n",
        "    response = requests.get('https://ids.pods.uvarc.io/guid')\n",
        "    body = json.loads(response.text)\n",
        "    return body['id']\n",
        "\n",
        "Id.guid()\n",
        "```"
      ],
      "metadata": {
        "id": "gf9m78RWmWqC"
      }
    },
    {
      "cell_type": "code",
      "source": [
        "# answer goes here\n",
        "\n",
        "import requests\n",
        "import json\n",
        "import sys"
      ],
      "metadata": {
        "id": "hT5B-LokmUbU"
      },
      "execution_count": 45,
      "outputs": []
    },
    {
      "cell_type": "code",
      "source": [
        "class ID:\n",
        "\n",
        "  def guid():\n",
        "    try:\n",
        "      response = requests.get('https://ids.pods.uvarc.io/guid')\n",
        "      body = json.loads(response.text)\n",
        "      return body['id']\n",
        "    except:\n",
        "      print(\"Error with Page\")"
      ],
      "metadata": {
        "id": "gFl5Ue_SrNS8"
      },
      "execution_count": 50,
      "outputs": []
    },
    {
      "cell_type": "code",
      "source": [
        "ID.guid()"
      ],
      "metadata": {
        "id": "uBW-DaMtrlvG",
        "outputId": "1bc3eae7-fe9b-4c64-ccb4-592f3c9bc500",
        "colab": {
          "base_uri": "https://localhost:8080/",
          "height": 36
        }
      },
      "execution_count": 51,
      "outputs": [
        {
          "output_type": "execute_result",
          "data": {
            "text/plain": [
              "'93837d22-9285-4c92-a3bd-082b098c67a6'"
            ],
            "application/vnd.google.colaboratory.intrinsic+json": {
              "type": "string"
            }
          },
          "metadata": {},
          "execution_count": 51
        }
      ]
    },
    {
      "cell_type": "markdown",
      "source": [
        "Much like the first questiion my problem was that I tried to create discrete logic. This caused the code to fumble since there are a keyboard's worth of characters that can be placed into the URL and an equally like probability that characters could be removed. Thus, I would need to set up my try statement to perform the action and then use except to catch every possible error with a generic print statement."
      ],
      "metadata": {
        "id": "GC_nCCzvQGuI"
      }
    },
    {
      "cell_type": "markdown",
      "source": [
        "## Recursive Functions (3 pts)\n",
        "\n",
        "In the cell below, explain line by line the logic of what is being calculated when the function is called with an input value of 2.\n",
        "\n",
        "```\n",
        "def squarer(n):\n",
        "  if n == 1:\n",
        "    return 2\n",
        "  else:\n",
        "    return squarer(n-1) ** 2 + n\n",
        "\n",
        "squarer(2)\n",
        "```"
      ],
      "metadata": {
        "id": "XCuNofSFomZ6"
      }
    },
    {
      "cell_type": "code",
      "source": [
        "# answer goes here. Add space as needed.\n",
        "\n",
        "'''Line 1. 2 is not conditionally equal to 1\n",
        "Line 2. (2-1) = 1\n",
        "Line 3. go back to if statement, 1 == 1; therefore, we return 2\n",
        "Line 4. 2**2 = 4\n",
        "Line 5. n = 2; therefore 4 +2 = 6 '''"
      ],
      "metadata": {
        "id": "oYiqS2cxxXm4",
        "outputId": "60a3b858-e861-4b6b-9bc6-657aa4b230cb",
        "colab": {
          "base_uri": "https://localhost:8080/",
          "height": 53
        }
      },
      "execution_count": 44,
      "outputs": [
        {
          "output_type": "execute_result",
          "data": {
            "text/plain": [
              "'Line 1. 2 is not conditionally equal to 1\\nLine 2. (2-1) = 1\\nLine 3. go back to if statement, 1 == 1; therefore, we return 2\\nLine 4. 2**2 = 4 \\nLine 5. n = 2; therefore 4 +2 = 6 '"
            ],
            "application/vnd.google.colaboratory.intrinsic+json": {
              "type": "string"
            }
          },
          "metadata": {},
          "execution_count": 44
        }
      ]
    },
    {
      "cell_type": "markdown",
      "source": [
        "I went back through and approached this using this specific instance of the recursive function instead of generalizing for all instances of the recursive function."
      ],
      "metadata": {
        "id": "ECQF3lZBPRna"
      }
    }
  ]
}