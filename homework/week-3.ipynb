{
  "nbformat": 4,
  "nbformat_minor": 0,
  "metadata": {
    "colab": {
      "provenance": [],
      "include_colab_link": true
    },
    "kernelspec": {
      "name": "python3",
      "display_name": "Python 3"
    },
    "language_info": {
      "name": "python"
    }
  },
  "cells": [
    {
      "cell_type": "markdown",
      "metadata": {
        "id": "view-in-github",
        "colab_type": "text"
      },
      "source": [
        "<a href=\"https://colab.research.google.com/github/PraphulKamabathula/DS1002-qtm3tc/blob/main/homework/week-3.ipynb\" target=\"_parent\"><img src=\"https://colab.research.google.com/assets/colab-badge.svg\" alt=\"Open In Colab\"/></a>"
      ]
    },
    {
      "cell_type": "markdown",
      "source": [
        "# Homework - Week 3\n",
        "\n",
        "Complete the following blocks as specified in the directions. Run each cell to return the desired output. Save your notebook back to your GitHub repository and submit the GitHub URL for your notebook for grading."
      ],
      "metadata": {
        "id": "xJ6ZWHKXW4qY"
      }
    },
    {
      "cell_type": "markdown",
      "source": [
        "## 1. Variables\n",
        "\n",
        "Declare and populate three variables below. Be sure your code outputs each variable:\n",
        "\n",
        "1. Containing a string\n",
        "2. Containing a boolean\n",
        "3. Containing an integer"
      ],
      "metadata": {
        "id": "j0mCENI3XK2i"
      }
    },
    {
      "cell_type": "code",
      "execution_count": 2,
      "metadata": {
        "id": "mdX0VBQgW1-9",
        "outputId": "39b7dbda-0eb9-4528-803e-bfc6597509f9",
        "colab": {
          "base_uri": "https://localhost:8080/"
        }
      },
      "outputs": [
        {
          "output_type": "execute_result",
          "data": {
            "text/plain": [
              "12"
            ]
          },
          "metadata": {},
          "execution_count": 2
        }
      ],
      "source": [
        "# Put answers below"
      ]
    },
    {
      "cell_type": "code",
      "source": [
        "str1 = \"Calculator\"\n",
        "bool1 = False\n",
        "int1 = 12\n",
        "\n",
        "print(str1, bool1, int1)"
      ],
      "metadata": {
        "id": "VIUeWnGgedcv",
        "outputId": "c4b9bf99-5ee8-4a11-8ac4-1df8862fb674",
        "colab": {
          "base_uri": "https://localhost:8080/"
        }
      },
      "execution_count": 30,
      "outputs": [
        {
          "output_type": "stream",
          "name": "stdout",
          "text": [
            "Calculator False 12\n"
          ]
        }
      ]
    },
    {
      "cell_type": "code",
      "source": [
        "type(str1)"
      ],
      "metadata": {
        "id": "ly11p6SFem4E",
        "outputId": "4c3d5f7a-66eb-4632-c34a-6d7fd9a7ba62",
        "colab": {
          "base_uri": "https://localhost:8080/"
        }
      },
      "execution_count": 31,
      "outputs": [
        {
          "output_type": "execute_result",
          "data": {
            "text/plain": [
              "str"
            ]
          },
          "metadata": {},
          "execution_count": 31
        }
      ]
    },
    {
      "cell_type": "code",
      "source": [
        "type(bool1)"
      ],
      "metadata": {
        "id": "WrqzHZvdeu_t",
        "outputId": "b59ad094-e2c5-4c8b-e5ea-3dafa6c5fa40",
        "colab": {
          "base_uri": "https://localhost:8080/"
        }
      },
      "execution_count": 32,
      "outputs": [
        {
          "output_type": "execute_result",
          "data": {
            "text/plain": [
              "bool"
            ]
          },
          "metadata": {},
          "execution_count": 32
        }
      ]
    },
    {
      "cell_type": "code",
      "source": [
        "type(int1)"
      ],
      "metadata": {
        "id": "4W42Xl3Ue3GA",
        "outputId": "613ad090-5bb7-495a-d753-c7a0f78e17a6",
        "colab": {
          "base_uri": "https://localhost:8080/"
        }
      },
      "execution_count": 33,
      "outputs": [
        {
          "output_type": "execute_result",
          "data": {
            "text/plain": [
              "int"
            ]
          },
          "metadata": {},
          "execution_count": 33
        }
      ]
    },
    {
      "cell_type": "markdown",
      "source": [
        "## 2. String Manipulation\n",
        "\n",
        "Take the following string and, using python commands, show how to fulfill the requested task. Be sure your code outputs the requested data.\n",
        "\n",
        "String: \"Go Hoos, Beat JMU!\"\n",
        "\n",
        "1. Write a command that extracts the first 8 characters of the string.\n",
        "2. Write a command that extracts the last 4 characters of the string."
      ],
      "metadata": {
        "id": "atxtPF2-XXiW"
      }
    },
    {
      "cell_type": "code",
      "source": [
        "# Put answers below"
      ],
      "metadata": {
        "id": "2szfLXZcYC_7"
      },
      "execution_count": null,
      "outputs": []
    },
    {
      "cell_type": "code",
      "source": [
        "str1 = \"Go Hoos, Beat JMU\"\n",
        "str1"
      ],
      "metadata": {
        "id": "hk6nfH14e7PU",
        "outputId": "1eb421fb-197b-44b9-c6dc-5d3602d8fc1f",
        "colab": {
          "base_uri": "https://localhost:8080/",
          "height": 36
        }
      },
      "execution_count": 14,
      "outputs": [
        {
          "output_type": "execute_result",
          "data": {
            "text/plain": [
              "'Go Hoos, Beat JMU'"
            ],
            "application/vnd.google.colaboratory.intrinsic+json": {
              "type": "string"
            }
          },
          "metadata": {},
          "execution_count": 14
        }
      ]
    },
    {
      "cell_type": "code",
      "source": [
        "str1[:8]"
      ],
      "metadata": {
        "id": "FXljbDdcfDIr",
        "outputId": "1e6bbc3f-da6e-46c8-80b2-9538e67a2f37",
        "colab": {
          "base_uri": "https://localhost:8080/",
          "height": 36
        }
      },
      "execution_count": 15,
      "outputs": [
        {
          "output_type": "execute_result",
          "data": {
            "text/plain": [
              "'Go Hoos,'"
            ],
            "application/vnd.google.colaboratory.intrinsic+json": {
              "type": "string"
            }
          },
          "metadata": {},
          "execution_count": 15
        }
      ]
    },
    {
      "cell_type": "code",
      "source": [
        "str1[-4:]"
      ],
      "metadata": {
        "id": "JDNYpR5yf7BR",
        "outputId": "77a64e1b-1329-463e-8dce-713397dc51f0",
        "colab": {
          "base_uri": "https://localhost:8080/",
          "height": 36
        }
      },
      "execution_count": 17,
      "outputs": [
        {
          "output_type": "execute_result",
          "data": {
            "text/plain": [
              "' JMU'"
            ],
            "application/vnd.google.colaboratory.intrinsic+json": {
              "type": "string"
            }
          },
          "metadata": {},
          "execution_count": 17
        }
      ]
    },
    {
      "cell_type": "markdown",
      "source": [
        "# 3. Concatenation\n",
        "\n",
        "1. Declare any two string variables and concatenate them.\n",
        "2. Declare a string parameter and concatenate another hard-coded phrase with it."
      ],
      "metadata": {
        "id": "GeXcT_9sYEdx"
      }
    },
    {
      "cell_type": "code",
      "source": [
        "# Put answers below"
      ],
      "metadata": {
        "id": "v3fvvKP4ZUvJ"
      },
      "execution_count": null,
      "outputs": []
    },
    {
      "cell_type": "code",
      "source": [
        "str1 = \"JMU won, sadly. \"\n",
        "str2 = \"We got the next game!\"\n",
        "\n",
        "str1"
      ],
      "metadata": {
        "id": "ckoV-qQ4gLyj",
        "outputId": "d89575f9-f584-4c3e-a164-05b7ab90b68c",
        "colab": {
          "base_uri": "https://localhost:8080/",
          "height": 36
        }
      },
      "execution_count": 19,
      "outputs": [
        {
          "output_type": "execute_result",
          "data": {
            "text/plain": [
              "'JMU won, sadly. '"
            ],
            "application/vnd.google.colaboratory.intrinsic+json": {
              "type": "string"
            }
          },
          "metadata": {},
          "execution_count": 19
        }
      ]
    },
    {
      "cell_type": "code",
      "source": [
        "str2"
      ],
      "metadata": {
        "id": "PpOZ0h3Agd79",
        "outputId": "1db3fe6d-560c-4960-8824-450d0014246f",
        "colab": {
          "base_uri": "https://localhost:8080/",
          "height": 36
        }
      },
      "execution_count": 20,
      "outputs": [
        {
          "output_type": "execute_result",
          "data": {
            "text/plain": [
              "'We got the next game!'"
            ],
            "application/vnd.google.colaboratory.intrinsic+json": {
              "type": "string"
            }
          },
          "metadata": {},
          "execution_count": 20
        }
      ]
    },
    {
      "cell_type": "code",
      "source": [
        "str1 + str2"
      ],
      "metadata": {
        "id": "mY3F81ncgfTe",
        "outputId": "3733b2d6-25d0-4074-93aa-2854607c2361",
        "colab": {
          "base_uri": "https://localhost:8080/",
          "height": 36
        }
      },
      "execution_count": 21,
      "outputs": [
        {
          "output_type": "execute_result",
          "data": {
            "text/plain": [
              "'JMU won, sadly. We got the next game!'"
            ],
            "application/vnd.google.colaboratory.intrinsic+json": {
              "type": "string"
            }
          },
          "metadata": {},
          "execution_count": 21
        }
      ]
    },
    {
      "cell_type": "markdown",
      "source": [
        "# 4. Math Operations\n",
        "\n",
        "Using the following numeric variables, write Python code that fulfills the requested operations. Be sure your code outputs the correct results.\n",
        "\n",
        "```python\n",
        "var1 = 9\n",
        "var2 = 12\n",
        "var3 = 48\n",
        "var4 = 4\n",
        "```\n",
        "\n",
        "1. Divide var3 by var2\n",
        "2. Multiply var1 by var4\n",
        "3. Write a Python expression that gives a result of `16`."
      ],
      "metadata": {
        "id": "DkVtHJBoYW34"
      }
    },
    {
      "cell_type": "code",
      "source": [
        "# Put answers below"
      ],
      "metadata": {
        "id": "db5UdbrVZSiJ"
      },
      "execution_count": null,
      "outputs": []
    },
    {
      "cell_type": "code",
      "source": [
        "var1 = 9\n",
        "var2 = 12\n",
        "var3 = 48\n",
        "var4 = 4\n",
        "\n",
        "print(var1,var2,var3,var4)"
      ],
      "metadata": {
        "id": "T6tJvxwFgmCY",
        "outputId": "5a6c8a04-d905-45fe-af45-bc44f22c66e5",
        "colab": {
          "base_uri": "https://localhost:8080/"
        }
      },
      "execution_count": 27,
      "outputs": [
        {
          "output_type": "stream",
          "name": "stdout",
          "text": [
            "9 12 48 4\n"
          ]
        }
      ]
    },
    {
      "cell_type": "code",
      "source": [
        "var3/var2"
      ],
      "metadata": {
        "id": "v_zaLp-sgt8T",
        "outputId": "7a590543-2cf3-4127-df58-3be0b9e69753",
        "colab": {
          "base_uri": "https://localhost:8080/"
        }
      },
      "execution_count": 34,
      "outputs": [
        {
          "output_type": "execute_result",
          "data": {
            "text/plain": [
              "4.0"
            ]
          },
          "metadata": {},
          "execution_count": 34
        }
      ]
    },
    {
      "cell_type": "code",
      "source": [
        "var1*var4"
      ],
      "metadata": {
        "id": "1kFC4WHBhSTI",
        "outputId": "e568d590-9de6-4726-95e0-a8609e3a025a",
        "colab": {
          "base_uri": "https://localhost:8080/"
        }
      },
      "execution_count": 35,
      "outputs": [
        {
          "output_type": "execute_result",
          "data": {
            "text/plain": [
              "36"
            ]
          },
          "metadata": {},
          "execution_count": 35
        }
      ]
    },
    {
      "cell_type": "code",
      "source": [
        "var2+var4"
      ],
      "metadata": {
        "id": "QGZAuyXChVdM",
        "outputId": "2b3f8ef4-4406-4221-d982-4906cd1e5694",
        "colab": {
          "base_uri": "https://localhost:8080/"
        }
      },
      "execution_count": 37,
      "outputs": [
        {
          "output_type": "execute_result",
          "data": {
            "text/plain": [
              "16"
            ]
          },
          "metadata": {},
          "execution_count": 37
        }
      ]
    }
  ]
}